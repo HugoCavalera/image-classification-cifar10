{
 "cells": [
  {
   "cell_type": "markdown",
   "metadata": {
    "collapsed": true
   },
   "source": [
    "# Image Classification\n",
    "In this project, you'll classify images from the [CIFAR-10 dataset](https://www.cs.toronto.edu/~kriz/cifar.html).  The dataset consists of airplanes, dogs, cats, and other objects. You'll preprocess the images, then train a convolutional neural network on all the samples. The images need to be normalized and the labels need to be one-hot encoded.  You'll get to apply what you learned and build a convolutional, max pooling, dropout, and fully connected layers.  At the end, you'll get to see your neural network's predictions on the sample images.\n",
    "## Get the Data\n",
    "Run the following cell to download the [CIFAR-10 dataset for python](https://www.cs.toronto.edu/~kriz/cifar-10-python.tar.gz)."
   ]
  },
  {
   "cell_type": "code",
   "execution_count": 2,
   "metadata": {
    "collapsed": true
   },
   "outputs": [
    {
     "name": "stderr",
     "output_type": "stream",
     "text": [
      "\n"
     ]
    },
    {
     "ename": "KeyboardInterrupt",
     "evalue": "",
     "output_type": "error",
     "traceback": [
      "\u001b[0;31m---------------------------------------------------------------------------\u001b[0m",
      "\u001b[0;31mKeyboardInterrupt\u001b[0m                         Traceback (most recent call last)",
      "\u001b[0;32m<ipython-input-2-bd3c173770c4>\u001b[0m in \u001b[0;36m<module>\u001b[0;34m()\u001b[0m\n\u001b[1;32m     30\u001b[0m             \u001b[0;34m'https://www.cs.toronto.edu/~kriz/cifar-10-python.tar.gz'\u001b[0m\u001b[0;34m,\u001b[0m\u001b[0;34m\u001b[0m\u001b[0m\n\u001b[1;32m     31\u001b[0m             \u001b[0mtar_gz_path\u001b[0m\u001b[0;34m,\u001b[0m\u001b[0;34m\u001b[0m\u001b[0m\n\u001b[0;32m---> 32\u001b[0;31m             pbar.hook)\n\u001b[0m\u001b[1;32m     33\u001b[0m \u001b[0;34m\u001b[0m\u001b[0m\n\u001b[1;32m     34\u001b[0m \u001b[0;32mif\u001b[0m \u001b[0;32mnot\u001b[0m \u001b[0misdir\u001b[0m\u001b[0;34m(\u001b[0m\u001b[0mcifar10_dataset_folder_path\u001b[0m\u001b[0;34m)\u001b[0m\u001b[0;34m:\u001b[0m\u001b[0;34m\u001b[0m\u001b[0m\n",
      "\u001b[0;32m/product/anaconda/envs/py36DeepUdacity/lib/python3.6/urllib/request.py\u001b[0m in \u001b[0;36murlretrieve\u001b[0;34m(url, filename, reporthook, data)\u001b[0m\n\u001b[1;32m    246\u001b[0m     \u001b[0murl_type\u001b[0m\u001b[0;34m,\u001b[0m \u001b[0mpath\u001b[0m \u001b[0;34m=\u001b[0m \u001b[0msplittype\u001b[0m\u001b[0;34m(\u001b[0m\u001b[0murl\u001b[0m\u001b[0;34m)\u001b[0m\u001b[0;34m\u001b[0m\u001b[0m\n\u001b[1;32m    247\u001b[0m \u001b[0;34m\u001b[0m\u001b[0m\n\u001b[0;32m--> 248\u001b[0;31m     \u001b[0;32mwith\u001b[0m \u001b[0mcontextlib\u001b[0m\u001b[0;34m.\u001b[0m\u001b[0mclosing\u001b[0m\u001b[0;34m(\u001b[0m\u001b[0murlopen\u001b[0m\u001b[0;34m(\u001b[0m\u001b[0murl\u001b[0m\u001b[0;34m,\u001b[0m \u001b[0mdata\u001b[0m\u001b[0;34m)\u001b[0m\u001b[0;34m)\u001b[0m \u001b[0;32mas\u001b[0m \u001b[0mfp\u001b[0m\u001b[0;34m:\u001b[0m\u001b[0;34m\u001b[0m\u001b[0m\n\u001b[0m\u001b[1;32m    249\u001b[0m         \u001b[0mheaders\u001b[0m \u001b[0;34m=\u001b[0m \u001b[0mfp\u001b[0m\u001b[0;34m.\u001b[0m\u001b[0minfo\u001b[0m\u001b[0;34m(\u001b[0m\u001b[0;34m)\u001b[0m\u001b[0;34m\u001b[0m\u001b[0m\n\u001b[1;32m    250\u001b[0m \u001b[0;34m\u001b[0m\u001b[0m\n",
      "\u001b[0;32m/product/anaconda/envs/py36DeepUdacity/lib/python3.6/urllib/request.py\u001b[0m in \u001b[0;36murlopen\u001b[0;34m(url, data, timeout, cafile, capath, cadefault, context)\u001b[0m\n\u001b[1;32m    221\u001b[0m     \u001b[0;32melse\u001b[0m\u001b[0;34m:\u001b[0m\u001b[0;34m\u001b[0m\u001b[0m\n\u001b[1;32m    222\u001b[0m         \u001b[0mopener\u001b[0m \u001b[0;34m=\u001b[0m \u001b[0m_opener\u001b[0m\u001b[0;34m\u001b[0m\u001b[0m\n\u001b[0;32m--> 223\u001b[0;31m     \u001b[0;32mreturn\u001b[0m \u001b[0mopener\u001b[0m\u001b[0;34m.\u001b[0m\u001b[0mopen\u001b[0m\u001b[0;34m(\u001b[0m\u001b[0murl\u001b[0m\u001b[0;34m,\u001b[0m \u001b[0mdata\u001b[0m\u001b[0;34m,\u001b[0m \u001b[0mtimeout\u001b[0m\u001b[0;34m)\u001b[0m\u001b[0;34m\u001b[0m\u001b[0m\n\u001b[0m\u001b[1;32m    224\u001b[0m \u001b[0;34m\u001b[0m\u001b[0m\n\u001b[1;32m    225\u001b[0m \u001b[0;32mdef\u001b[0m \u001b[0minstall_opener\u001b[0m\u001b[0;34m(\u001b[0m\u001b[0mopener\u001b[0m\u001b[0;34m)\u001b[0m\u001b[0;34m:\u001b[0m\u001b[0;34m\u001b[0m\u001b[0m\n",
      "\u001b[0;32m/product/anaconda/envs/py36DeepUdacity/lib/python3.6/urllib/request.py\u001b[0m in \u001b[0;36mopen\u001b[0;34m(self, fullurl, data, timeout)\u001b[0m\n\u001b[1;32m    524\u001b[0m             \u001b[0mreq\u001b[0m \u001b[0;34m=\u001b[0m \u001b[0mmeth\u001b[0m\u001b[0;34m(\u001b[0m\u001b[0mreq\u001b[0m\u001b[0;34m)\u001b[0m\u001b[0;34m\u001b[0m\u001b[0m\n\u001b[1;32m    525\u001b[0m \u001b[0;34m\u001b[0m\u001b[0m\n\u001b[0;32m--> 526\u001b[0;31m         \u001b[0mresponse\u001b[0m \u001b[0;34m=\u001b[0m \u001b[0mself\u001b[0m\u001b[0;34m.\u001b[0m\u001b[0m_open\u001b[0m\u001b[0;34m(\u001b[0m\u001b[0mreq\u001b[0m\u001b[0;34m,\u001b[0m \u001b[0mdata\u001b[0m\u001b[0;34m)\u001b[0m\u001b[0;34m\u001b[0m\u001b[0m\n\u001b[0m\u001b[1;32m    527\u001b[0m \u001b[0;34m\u001b[0m\u001b[0m\n\u001b[1;32m    528\u001b[0m         \u001b[0;31m# post-process response\u001b[0m\u001b[0;34m\u001b[0m\u001b[0;34m\u001b[0m\u001b[0m\n",
      "\u001b[0;32m/product/anaconda/envs/py36DeepUdacity/lib/python3.6/urllib/request.py\u001b[0m in \u001b[0;36m_open\u001b[0;34m(self, req, data)\u001b[0m\n\u001b[1;32m    542\u001b[0m         \u001b[0mprotocol\u001b[0m \u001b[0;34m=\u001b[0m \u001b[0mreq\u001b[0m\u001b[0;34m.\u001b[0m\u001b[0mtype\u001b[0m\u001b[0;34m\u001b[0m\u001b[0m\n\u001b[1;32m    543\u001b[0m         result = self._call_chain(self.handle_open, protocol, protocol +\n\u001b[0;32m--> 544\u001b[0;31m                                   '_open', req)\n\u001b[0m\u001b[1;32m    545\u001b[0m         \u001b[0;32mif\u001b[0m \u001b[0mresult\u001b[0m\u001b[0;34m:\u001b[0m\u001b[0;34m\u001b[0m\u001b[0m\n\u001b[1;32m    546\u001b[0m             \u001b[0;32mreturn\u001b[0m \u001b[0mresult\u001b[0m\u001b[0;34m\u001b[0m\u001b[0m\n",
      "\u001b[0;32m/product/anaconda/envs/py36DeepUdacity/lib/python3.6/urllib/request.py\u001b[0m in \u001b[0;36m_call_chain\u001b[0;34m(self, chain, kind, meth_name, *args)\u001b[0m\n\u001b[1;32m    502\u001b[0m         \u001b[0;32mfor\u001b[0m \u001b[0mhandler\u001b[0m \u001b[0;32min\u001b[0m \u001b[0mhandlers\u001b[0m\u001b[0;34m:\u001b[0m\u001b[0;34m\u001b[0m\u001b[0m\n\u001b[1;32m    503\u001b[0m             \u001b[0mfunc\u001b[0m \u001b[0;34m=\u001b[0m \u001b[0mgetattr\u001b[0m\u001b[0;34m(\u001b[0m\u001b[0mhandler\u001b[0m\u001b[0;34m,\u001b[0m \u001b[0mmeth_name\u001b[0m\u001b[0;34m)\u001b[0m\u001b[0;34m\u001b[0m\u001b[0m\n\u001b[0;32m--> 504\u001b[0;31m             \u001b[0mresult\u001b[0m \u001b[0;34m=\u001b[0m \u001b[0mfunc\u001b[0m\u001b[0;34m(\u001b[0m\u001b[0;34m*\u001b[0m\u001b[0margs\u001b[0m\u001b[0;34m)\u001b[0m\u001b[0;34m\u001b[0m\u001b[0m\n\u001b[0m\u001b[1;32m    505\u001b[0m             \u001b[0;32mif\u001b[0m \u001b[0mresult\u001b[0m \u001b[0;32mis\u001b[0m \u001b[0;32mnot\u001b[0m \u001b[0;32mNone\u001b[0m\u001b[0;34m:\u001b[0m\u001b[0;34m\u001b[0m\u001b[0m\n\u001b[1;32m    506\u001b[0m                 \u001b[0;32mreturn\u001b[0m \u001b[0mresult\u001b[0m\u001b[0;34m\u001b[0m\u001b[0m\n",
      "\u001b[0;32m/product/anaconda/envs/py36DeepUdacity/lib/python3.6/urllib/request.py\u001b[0m in \u001b[0;36mhttps_open\u001b[0;34m(self, req)\u001b[0m\n\u001b[1;32m   1359\u001b[0m         \u001b[0;32mdef\u001b[0m \u001b[0mhttps_open\u001b[0m\u001b[0;34m(\u001b[0m\u001b[0mself\u001b[0m\u001b[0;34m,\u001b[0m \u001b[0mreq\u001b[0m\u001b[0;34m)\u001b[0m\u001b[0;34m:\u001b[0m\u001b[0;34m\u001b[0m\u001b[0m\n\u001b[1;32m   1360\u001b[0m             return self.do_open(http.client.HTTPSConnection, req,\n\u001b[0;32m-> 1361\u001b[0;31m                 context=self._context, check_hostname=self._check_hostname)\n\u001b[0m\u001b[1;32m   1362\u001b[0m \u001b[0;34m\u001b[0m\u001b[0m\n\u001b[1;32m   1363\u001b[0m         \u001b[0mhttps_request\u001b[0m \u001b[0;34m=\u001b[0m \u001b[0mAbstractHTTPHandler\u001b[0m\u001b[0;34m.\u001b[0m\u001b[0mdo_request_\u001b[0m\u001b[0;34m\u001b[0m\u001b[0m\n",
      "\u001b[0;32m/product/anaconda/envs/py36DeepUdacity/lib/python3.6/urllib/request.py\u001b[0m in \u001b[0;36mdo_open\u001b[0;34m(self, http_class, req, **http_conn_args)\u001b[0m\n\u001b[1;32m   1316\u001b[0m             \u001b[0;32mtry\u001b[0m\u001b[0;34m:\u001b[0m\u001b[0;34m\u001b[0m\u001b[0m\n\u001b[1;32m   1317\u001b[0m                 h.request(req.get_method(), req.selector, req.data, headers,\n\u001b[0;32m-> 1318\u001b[0;31m                           encode_chunked=req.has_header('Transfer-encoding'))\n\u001b[0m\u001b[1;32m   1319\u001b[0m             \u001b[0;32mexcept\u001b[0m \u001b[0mOSError\u001b[0m \u001b[0;32mas\u001b[0m \u001b[0merr\u001b[0m\u001b[0;34m:\u001b[0m \u001b[0;31m# timeout error\u001b[0m\u001b[0;34m\u001b[0m\u001b[0m\n\u001b[1;32m   1320\u001b[0m                 \u001b[0;32mraise\u001b[0m \u001b[0mURLError\u001b[0m\u001b[0;34m(\u001b[0m\u001b[0merr\u001b[0m\u001b[0;34m)\u001b[0m\u001b[0;34m\u001b[0m\u001b[0m\n",
      "\u001b[0;32m/product/anaconda/envs/py36DeepUdacity/lib/python3.6/http/client.py\u001b[0m in \u001b[0;36mrequest\u001b[0;34m(self, method, url, body, headers, encode_chunked)\u001b[0m\n\u001b[1;32m   1237\u001b[0m                 encode_chunked=False):\n\u001b[1;32m   1238\u001b[0m         \u001b[0;34m\"\"\"Send a complete request to the server.\"\"\"\u001b[0m\u001b[0;34m\u001b[0m\u001b[0m\n\u001b[0;32m-> 1239\u001b[0;31m         \u001b[0mself\u001b[0m\u001b[0;34m.\u001b[0m\u001b[0m_send_request\u001b[0m\u001b[0;34m(\u001b[0m\u001b[0mmethod\u001b[0m\u001b[0;34m,\u001b[0m \u001b[0murl\u001b[0m\u001b[0;34m,\u001b[0m \u001b[0mbody\u001b[0m\u001b[0;34m,\u001b[0m \u001b[0mheaders\u001b[0m\u001b[0;34m,\u001b[0m \u001b[0mencode_chunked\u001b[0m\u001b[0;34m)\u001b[0m\u001b[0;34m\u001b[0m\u001b[0m\n\u001b[0m\u001b[1;32m   1240\u001b[0m \u001b[0;34m\u001b[0m\u001b[0m\n\u001b[1;32m   1241\u001b[0m     \u001b[0;32mdef\u001b[0m \u001b[0m_send_request\u001b[0m\u001b[0;34m(\u001b[0m\u001b[0mself\u001b[0m\u001b[0;34m,\u001b[0m \u001b[0mmethod\u001b[0m\u001b[0;34m,\u001b[0m \u001b[0murl\u001b[0m\u001b[0;34m,\u001b[0m \u001b[0mbody\u001b[0m\u001b[0;34m,\u001b[0m \u001b[0mheaders\u001b[0m\u001b[0;34m,\u001b[0m \u001b[0mencode_chunked\u001b[0m\u001b[0;34m)\u001b[0m\u001b[0;34m:\u001b[0m\u001b[0;34m\u001b[0m\u001b[0m\n",
      "\u001b[0;32m/product/anaconda/envs/py36DeepUdacity/lib/python3.6/http/client.py\u001b[0m in \u001b[0;36m_send_request\u001b[0;34m(self, method, url, body, headers, encode_chunked)\u001b[0m\n\u001b[1;32m   1283\u001b[0m             \u001b[0;31m# default charset of iso-8859-1.\u001b[0m\u001b[0;34m\u001b[0m\u001b[0;34m\u001b[0m\u001b[0m\n\u001b[1;32m   1284\u001b[0m             \u001b[0mbody\u001b[0m \u001b[0;34m=\u001b[0m \u001b[0m_encode\u001b[0m\u001b[0;34m(\u001b[0m\u001b[0mbody\u001b[0m\u001b[0;34m,\u001b[0m \u001b[0;34m'body'\u001b[0m\u001b[0;34m)\u001b[0m\u001b[0;34m\u001b[0m\u001b[0m\n\u001b[0;32m-> 1285\u001b[0;31m         \u001b[0mself\u001b[0m\u001b[0;34m.\u001b[0m\u001b[0mendheaders\u001b[0m\u001b[0;34m(\u001b[0m\u001b[0mbody\u001b[0m\u001b[0;34m,\u001b[0m \u001b[0mencode_chunked\u001b[0m\u001b[0;34m=\u001b[0m\u001b[0mencode_chunked\u001b[0m\u001b[0;34m)\u001b[0m\u001b[0;34m\u001b[0m\u001b[0m\n\u001b[0m\u001b[1;32m   1286\u001b[0m \u001b[0;34m\u001b[0m\u001b[0m\n\u001b[1;32m   1287\u001b[0m     \u001b[0;32mdef\u001b[0m \u001b[0mgetresponse\u001b[0m\u001b[0;34m(\u001b[0m\u001b[0mself\u001b[0m\u001b[0;34m)\u001b[0m\u001b[0;34m:\u001b[0m\u001b[0;34m\u001b[0m\u001b[0m\n",
      "\u001b[0;32m/product/anaconda/envs/py36DeepUdacity/lib/python3.6/http/client.py\u001b[0m in \u001b[0;36mendheaders\u001b[0;34m(self, message_body, encode_chunked)\u001b[0m\n\u001b[1;32m   1232\u001b[0m         \u001b[0;32melse\u001b[0m\u001b[0;34m:\u001b[0m\u001b[0;34m\u001b[0m\u001b[0m\n\u001b[1;32m   1233\u001b[0m             \u001b[0;32mraise\u001b[0m \u001b[0mCannotSendHeader\u001b[0m\u001b[0;34m(\u001b[0m\u001b[0;34m)\u001b[0m\u001b[0;34m\u001b[0m\u001b[0m\n\u001b[0;32m-> 1234\u001b[0;31m         \u001b[0mself\u001b[0m\u001b[0;34m.\u001b[0m\u001b[0m_send_output\u001b[0m\u001b[0;34m(\u001b[0m\u001b[0mmessage_body\u001b[0m\u001b[0;34m,\u001b[0m \u001b[0mencode_chunked\u001b[0m\u001b[0;34m=\u001b[0m\u001b[0mencode_chunked\u001b[0m\u001b[0;34m)\u001b[0m\u001b[0;34m\u001b[0m\u001b[0m\n\u001b[0m\u001b[1;32m   1235\u001b[0m \u001b[0;34m\u001b[0m\u001b[0m\n\u001b[1;32m   1236\u001b[0m     def request(self, method, url, body=None, headers={}, *,\n",
      "\u001b[0;32m/product/anaconda/envs/py36DeepUdacity/lib/python3.6/http/client.py\u001b[0m in \u001b[0;36m_send_output\u001b[0;34m(self, message_body, encode_chunked)\u001b[0m\n\u001b[1;32m   1024\u001b[0m         \u001b[0mmsg\u001b[0m \u001b[0;34m=\u001b[0m \u001b[0;34mb\"\\r\\n\"\u001b[0m\u001b[0;34m.\u001b[0m\u001b[0mjoin\u001b[0m\u001b[0;34m(\u001b[0m\u001b[0mself\u001b[0m\u001b[0;34m.\u001b[0m\u001b[0m_buffer\u001b[0m\u001b[0;34m)\u001b[0m\u001b[0;34m\u001b[0m\u001b[0m\n\u001b[1;32m   1025\u001b[0m         \u001b[0;32mdel\u001b[0m \u001b[0mself\u001b[0m\u001b[0;34m.\u001b[0m\u001b[0m_buffer\u001b[0m\u001b[0;34m[\u001b[0m\u001b[0;34m:\u001b[0m\u001b[0;34m]\u001b[0m\u001b[0;34m\u001b[0m\u001b[0m\n\u001b[0;32m-> 1026\u001b[0;31m         \u001b[0mself\u001b[0m\u001b[0;34m.\u001b[0m\u001b[0msend\u001b[0m\u001b[0;34m(\u001b[0m\u001b[0mmsg\u001b[0m\u001b[0;34m)\u001b[0m\u001b[0;34m\u001b[0m\u001b[0m\n\u001b[0m\u001b[1;32m   1027\u001b[0m \u001b[0;34m\u001b[0m\u001b[0m\n\u001b[1;32m   1028\u001b[0m         \u001b[0;32mif\u001b[0m \u001b[0mmessage_body\u001b[0m \u001b[0;32mis\u001b[0m \u001b[0;32mnot\u001b[0m \u001b[0;32mNone\u001b[0m\u001b[0;34m:\u001b[0m\u001b[0;34m\u001b[0m\u001b[0m\n",
      "\u001b[0;32m/product/anaconda/envs/py36DeepUdacity/lib/python3.6/http/client.py\u001b[0m in \u001b[0;36msend\u001b[0;34m(self, data)\u001b[0m\n\u001b[1;32m    962\u001b[0m         \u001b[0;32mif\u001b[0m \u001b[0mself\u001b[0m\u001b[0;34m.\u001b[0m\u001b[0msock\u001b[0m \u001b[0;32mis\u001b[0m \u001b[0;32mNone\u001b[0m\u001b[0;34m:\u001b[0m\u001b[0;34m\u001b[0m\u001b[0m\n\u001b[1;32m    963\u001b[0m             \u001b[0;32mif\u001b[0m \u001b[0mself\u001b[0m\u001b[0;34m.\u001b[0m\u001b[0mauto_open\u001b[0m\u001b[0;34m:\u001b[0m\u001b[0;34m\u001b[0m\u001b[0m\n\u001b[0;32m--> 964\u001b[0;31m                 \u001b[0mself\u001b[0m\u001b[0;34m.\u001b[0m\u001b[0mconnect\u001b[0m\u001b[0;34m(\u001b[0m\u001b[0;34m)\u001b[0m\u001b[0;34m\u001b[0m\u001b[0m\n\u001b[0m\u001b[1;32m    965\u001b[0m             \u001b[0;32melse\u001b[0m\u001b[0;34m:\u001b[0m\u001b[0;34m\u001b[0m\u001b[0m\n\u001b[1;32m    966\u001b[0m                 \u001b[0;32mraise\u001b[0m \u001b[0mNotConnected\u001b[0m\u001b[0;34m(\u001b[0m\u001b[0;34m)\u001b[0m\u001b[0;34m\u001b[0m\u001b[0m\n",
      "\u001b[0;32m/product/anaconda/envs/py36DeepUdacity/lib/python3.6/http/client.py\u001b[0m in \u001b[0;36mconnect\u001b[0;34m(self)\u001b[0m\n\u001b[1;32m   1398\u001b[0m \u001b[0;34m\u001b[0m\u001b[0m\n\u001b[1;32m   1399\u001b[0m             self.sock = self._context.wrap_socket(self.sock,\n\u001b[0;32m-> 1400\u001b[0;31m                                                   server_hostname=server_hostname)\n\u001b[0m\u001b[1;32m   1401\u001b[0m             \u001b[0;32mif\u001b[0m \u001b[0;32mnot\u001b[0m \u001b[0mself\u001b[0m\u001b[0;34m.\u001b[0m\u001b[0m_context\u001b[0m\u001b[0;34m.\u001b[0m\u001b[0mcheck_hostname\u001b[0m \u001b[0;32mand\u001b[0m \u001b[0mself\u001b[0m\u001b[0;34m.\u001b[0m\u001b[0m_check_hostname\u001b[0m\u001b[0;34m:\u001b[0m\u001b[0;34m\u001b[0m\u001b[0m\n\u001b[1;32m   1402\u001b[0m                 \u001b[0;32mtry\u001b[0m\u001b[0;34m:\u001b[0m\u001b[0;34m\u001b[0m\u001b[0m\n",
      "\u001b[0;32m/product/anaconda/envs/py36DeepUdacity/lib/python3.6/ssl.py\u001b[0m in \u001b[0;36mwrap_socket\u001b[0;34m(self, sock, server_side, do_handshake_on_connect, suppress_ragged_eofs, server_hostname, session)\u001b[0m\n\u001b[1;32m    399\u001b[0m                          \u001b[0msuppress_ragged_eofs\u001b[0m\u001b[0;34m=\u001b[0m\u001b[0msuppress_ragged_eofs\u001b[0m\u001b[0;34m,\u001b[0m\u001b[0;34m\u001b[0m\u001b[0m\n\u001b[1;32m    400\u001b[0m                          \u001b[0mserver_hostname\u001b[0m\u001b[0;34m=\u001b[0m\u001b[0mserver_hostname\u001b[0m\u001b[0;34m,\u001b[0m\u001b[0;34m\u001b[0m\u001b[0m\n\u001b[0;32m--> 401\u001b[0;31m                          _context=self, _session=session)\n\u001b[0m\u001b[1;32m    402\u001b[0m \u001b[0;34m\u001b[0m\u001b[0m\n\u001b[1;32m    403\u001b[0m     def wrap_bio(self, incoming, outgoing, server_side=False,\n",
      "\u001b[0;32m/product/anaconda/envs/py36DeepUdacity/lib/python3.6/ssl.py\u001b[0m in \u001b[0;36m__init__\u001b[0;34m(self, sock, keyfile, certfile, server_side, cert_reqs, ssl_version, ca_certs, do_handshake_on_connect, family, type, proto, fileno, suppress_ragged_eofs, npn_protocols, ciphers, server_hostname, _context, _session)\u001b[0m\n\u001b[1;32m    806\u001b[0m                         \u001b[0;31m# non-blocking\u001b[0m\u001b[0;34m\u001b[0m\u001b[0;34m\u001b[0m\u001b[0m\n\u001b[1;32m    807\u001b[0m                         \u001b[0;32mraise\u001b[0m \u001b[0mValueError\u001b[0m\u001b[0;34m(\u001b[0m\u001b[0;34m\"do_handshake_on_connect should not be specified for non-blocking sockets\"\u001b[0m\u001b[0;34m)\u001b[0m\u001b[0;34m\u001b[0m\u001b[0m\n\u001b[0;32m--> 808\u001b[0;31m                     \u001b[0mself\u001b[0m\u001b[0;34m.\u001b[0m\u001b[0mdo_handshake\u001b[0m\u001b[0;34m(\u001b[0m\u001b[0;34m)\u001b[0m\u001b[0;34m\u001b[0m\u001b[0m\n\u001b[0m\u001b[1;32m    809\u001b[0m \u001b[0;34m\u001b[0m\u001b[0m\n\u001b[1;32m    810\u001b[0m             \u001b[0;32mexcept\u001b[0m \u001b[0;34m(\u001b[0m\u001b[0mOSError\u001b[0m\u001b[0;34m,\u001b[0m \u001b[0mValueError\u001b[0m\u001b[0;34m)\u001b[0m\u001b[0;34m:\u001b[0m\u001b[0;34m\u001b[0m\u001b[0m\n",
      "\u001b[0;32m/product/anaconda/envs/py36DeepUdacity/lib/python3.6/ssl.py\u001b[0m in \u001b[0;36mdo_handshake\u001b[0;34m(self, block)\u001b[0m\n\u001b[1;32m   1059\u001b[0m             \u001b[0;32mif\u001b[0m \u001b[0mtimeout\u001b[0m \u001b[0;34m==\u001b[0m \u001b[0;36m0.0\u001b[0m \u001b[0;32mand\u001b[0m \u001b[0mblock\u001b[0m\u001b[0;34m:\u001b[0m\u001b[0;34m\u001b[0m\u001b[0m\n\u001b[1;32m   1060\u001b[0m                 \u001b[0mself\u001b[0m\u001b[0;34m.\u001b[0m\u001b[0msettimeout\u001b[0m\u001b[0;34m(\u001b[0m\u001b[0;32mNone\u001b[0m\u001b[0;34m)\u001b[0m\u001b[0;34m\u001b[0m\u001b[0m\n\u001b[0;32m-> 1061\u001b[0;31m             \u001b[0mself\u001b[0m\u001b[0;34m.\u001b[0m\u001b[0m_sslobj\u001b[0m\u001b[0;34m.\u001b[0m\u001b[0mdo_handshake\u001b[0m\u001b[0;34m(\u001b[0m\u001b[0;34m)\u001b[0m\u001b[0;34m\u001b[0m\u001b[0m\n\u001b[0m\u001b[1;32m   1062\u001b[0m         \u001b[0;32mfinally\u001b[0m\u001b[0;34m:\u001b[0m\u001b[0;34m\u001b[0m\u001b[0m\n\u001b[1;32m   1063\u001b[0m             \u001b[0mself\u001b[0m\u001b[0;34m.\u001b[0m\u001b[0msettimeout\u001b[0m\u001b[0;34m(\u001b[0m\u001b[0mtimeout\u001b[0m\u001b[0;34m)\u001b[0m\u001b[0;34m\u001b[0m\u001b[0m\n",
      "\u001b[0;32m/product/anaconda/envs/py36DeepUdacity/lib/python3.6/ssl.py\u001b[0m in \u001b[0;36mdo_handshake\u001b[0;34m(self)\u001b[0m\n\u001b[1;32m    681\u001b[0m     \u001b[0;32mdef\u001b[0m \u001b[0mdo_handshake\u001b[0m\u001b[0;34m(\u001b[0m\u001b[0mself\u001b[0m\u001b[0;34m)\u001b[0m\u001b[0;34m:\u001b[0m\u001b[0;34m\u001b[0m\u001b[0m\n\u001b[1;32m    682\u001b[0m         \u001b[0;34m\"\"\"Start the SSL/TLS handshake.\"\"\"\u001b[0m\u001b[0;34m\u001b[0m\u001b[0m\n\u001b[0;32m--> 683\u001b[0;31m         \u001b[0mself\u001b[0m\u001b[0;34m.\u001b[0m\u001b[0m_sslobj\u001b[0m\u001b[0;34m.\u001b[0m\u001b[0mdo_handshake\u001b[0m\u001b[0;34m(\u001b[0m\u001b[0;34m)\u001b[0m\u001b[0;34m\u001b[0m\u001b[0m\n\u001b[0m\u001b[1;32m    684\u001b[0m         \u001b[0;32mif\u001b[0m \u001b[0mself\u001b[0m\u001b[0;34m.\u001b[0m\u001b[0mcontext\u001b[0m\u001b[0;34m.\u001b[0m\u001b[0mcheck_hostname\u001b[0m\u001b[0;34m:\u001b[0m\u001b[0;34m\u001b[0m\u001b[0m\n\u001b[1;32m    685\u001b[0m             \u001b[0;32mif\u001b[0m \u001b[0;32mnot\u001b[0m \u001b[0mself\u001b[0m\u001b[0;34m.\u001b[0m\u001b[0mserver_hostname\u001b[0m\u001b[0;34m:\u001b[0m\u001b[0;34m\u001b[0m\u001b[0m\n",
      "\u001b[0;31mKeyboardInterrupt\u001b[0m: "
     ]
    }
   ],
   "source": [
    "\"\"\"\n",
    "DON'T MODIFY ANYTHING IN THIS CELL THAT IS BELOW THIS LINE\n",
    "\"\"\"\n",
    "from urllib.request import urlretrieve\n",
    "from os.path import isfile, isdir\n",
    "from tqdm import tqdm\n",
    "import problem_unittests as tests\n",
    "import tarfile\n",
    "\n",
    "cifar10_dataset_folder_path = 'cifar-10-batches-py'\n",
    "\n",
    "# Use Floyd's cifar-10 dataset if present\n",
    "floyd_cifar10_location = '/input/cifar-10/python.tar.gz'\n",
    "if isfile(floyd_cifar10_location):\n",
    "    tar_gz_path = floyd_cifar10_location\n",
    "else:\n",
    "    tar_gz_path = 'cifar-10-python.tar.gz'\n",
    "\n",
    "class DLProgress(tqdm):\n",
    "    last_block = 0\n",
    "\n",
    "    def hook(self, block_num=1, block_size=1, total_size=None):\n",
    "        self.total = total_size\n",
    "        self.update((block_num - self.last_block) * block_size)\n",
    "        self.last_block = block_num\n",
    "\n",
    "if not isfile(tar_gz_path):\n",
    "    with DLProgress(unit='B', unit_scale=True, miniters=1, desc='CIFAR-10 Dataset') as pbar:\n",
    "        urlretrieve(\n",
    "            'https://www.cs.toronto.edu/~kriz/cifar-10-python.tar.gz',\n",
    "            tar_gz_path,\n",
    "            pbar.hook)\n",
    "\n",
    "if not isdir(cifar10_dataset_folder_path):\n",
    "    with tarfile.open(tar_gz_path) as tar:\n",
    "        tar.extractall()\n",
    "        tar.close()\n",
    "\n",
    "\n",
    "tests.test_folder_path(cifar10_dataset_folder_path)"
   ]
  },
  {
   "cell_type": "markdown",
   "metadata": {},
   "source": [
    "## Explore the Data\n",
    "The dataset is broken into batches to prevent your machine from running out of memory.  The CIFAR-10 dataset consists of 5 batches, named `data_batch_1`, `data_batch_2`, etc.. Each batch contains the labels and images that are one of the following:\n",
    "* airplane\n",
    "* automobile\n",
    "* bird\n",
    "* cat\n",
    "* deer\n",
    "* dog\n",
    "* frog\n",
    "* horse\n",
    "* ship\n",
    "* truck\n",
    "\n",
    "Understanding a dataset is part of making predictions on the data.  Play around with the code cell below by changing the `batch_id` and `sample_id`. The `batch_id` is the id for a batch (1-5). The `sample_id` is the id for a image and label pair in the batch.\n",
    "\n",
    "Ask yourself \"What are all possible labels?\", \"What is the range of values for the image data?\", \"Are the labels in order or random?\".  Answers to questions like these will help you preprocess the data and end up with better predictions."
   ]
  },
  {
   "cell_type": "code",
   "execution_count": 3,
   "metadata": {
    "collapsed": false
   },
   "outputs": [
    {
     "name": "stdout",
     "output_type": "stream",
     "text": [
      "\n",
      "Stats of batch 1:\n",
      "Samples: 10000\n",
      "Label Counts: {0: 1005, 1: 974, 2: 1032, 3: 1016, 4: 999, 5: 937, 6: 1030, 7: 1001, 8: 1025, 9: 981}\n",
      "First 20 Labels: [6, 9, 9, 4, 1, 1, 2, 7, 8, 3, 4, 7, 7, 2, 9, 9, 9, 3, 2, 6]\n",
      "\n",
      "Example of Image 5:\n",
      "Image - Min Value: 0 Max Value: 252\n",
      "Image - Shape: (32, 32, 3)\n",
      "Label - Label Id: 1 Name: automobile\n"
     ]
    },
    {
     "data": {
      "image/png": "[encoded data removed]",
      "text/plain": [
       "<matplotlib.figure.Figure at 0x7fa676ec55f8>"
      ]
     },
     "metadata": {
      "image/png": {
       "height": 250,
       "width": 253
      }
     },
     "output_type": "display_data"
    }
   ],
   "source": [
    "%matplotlib inline\n",
    "%config InlineBackend.figure_format = 'retina'\n",
    "\n",
    "import helper\n",
    "import numpy as np\n",
    "\n",
    "# Explore the dataset\n",
    "batch_id = 1\n",
    "sample_id = 5\n",
    "helper.display_stats(cifar10_dataset_folder_path, batch_id, sample_id)"
   ]
  },
  {
   "cell_type": "markdown",
   "metadata": {},
   "source": [
    "## Implement Preprocess Functions\n",
    "### Normalize\n",
    "In the cell below, implement the `normalize` function to take in image data, `x`, and return it as a normalized Numpy array. The values should be in the range of 0 to 1, inclusive.  The return object should be the same shape as `x`."
   ]
  },
  {
   "cell_type": "code",
   "execution_count": 4,
   "metadata": {
    "collapsed": false
   },
   "outputs": [
    {
     "name": "stdout",
     "output_type": "stream",
     "text": [
      "Tests Passed\n"
     ]
    }
   ],
   "source": [
    "def normalize(x):\n",
    "    \"\"\"\n",
    "    Normalize a list of sample image data in the range of 0 to 1\n",
    "    : x: List of image data.  The image shape is (32, 32, 3)\n",
    "    : return: Numpy array of normalize data\n",
    "    \"\"\"\n",
    "    # TODO: Implement Function\n",
    "    return x / x.max()\n",
    "\n",
    "\n",
    "\"\"\"\n",
    "DON'T MODIFY ANYTHING IN THIS CELL THAT IS BELOW THIS LINE\n",
    "\"\"\"\n",
    "tests.test_normalize(normalize)"
   ]
  },
  {
   "cell_type": "markdown",
   "metadata": {},
   "source": [
    "### One-hot encode\n",
    "Just like the previous code cell, you'll be implementing a function for preprocessing.  This time, you'll implement the `one_hot_encode` function. The input, `x`, are a list of labels.  Implement the function to return the list of labels as One-Hot encoded Numpy array.  The possible values for labels are 0 to 9. The one-hot encoding function should return the same encoding for each value between each call to `one_hot_encode`.  Make sure to save the map of encodings outside the function.\n",
    "\n",
    "Hint: Don't reinvent the wheel."
   ]
  },
  {
   "cell_type": "code",
   "execution_count": 5,
   "metadata": {
    "collapsed": false
   },
   "outputs": [
    {
     "name": "stdout",
     "output_type": "stream",
     "text": [
      "Tests Passed\n"
     ]
    }
   ],
   "source": [
    "def one_hot_encode(x):\n",
    "    \"\"\"\n",
    "    One hot encode a list of sample labels. Return a one-hot encoded vector for each label.\n",
    "    : x: List of sample Labels\n",
    "    : return: Numpy array of one-hot encoded labels\n",
    "    \"\"\"\n",
    "    # TODO: Implement Function\n",
    "    return np.array([[int(i == t) for i in range(10)] for t in x])\n",
    "\n",
    "\n",
    "\"\"\"\n",
    "DON'T MODIFY ANYTHING IN THIS CELL THAT IS BELOW THIS LINE\n",
    "\"\"\"\n",
    "tests.test_one_hot_encode(one_hot_encode)"
   ]
  },
  {
   "cell_type": "markdown",
   "metadata": {},
   "source": [
    "### Randomize Data\n",
    "As you saw from exploring the data above, the order of the samples are randomized.  It doesn't hurt to randomize it again, but you don't need to for this dataset."
   ]
  },
  {
   "cell_type": "markdown",
   "metadata": {},
   "source": [
    "## Preprocess all the data and save it\n",
    "Running the code cell below will preprocess all the CIFAR-10 data and save it to file. The code below also uses 10% of the training data for validation."
   ]
  },
  {
   "cell_type": "code",
   "execution_count": 6,
   "metadata": {
    "collapsed": false
   },
   "outputs": [],
   "source": [
    "\"\"\"\n",
    "DON'T MODIFY ANYTHING IN THIS CELL\n",
    "\"\"\"\n",
    "# Preprocess Training, Validation, and Testing Data\n",
    "helper.preprocess_and_save_data(cifar10_dataset_folder_path, normalize, one_hot_encode)"
   ]
  },
  {
   "cell_type": "markdown",
   "metadata": {},
   "source": [
    "# Check Point\n",
    "This is your first checkpoint.  If you ever decide to come back to this notebook or have to restart the notebook, you can start from here.  The preprocessed data has been saved to disk."
   ]
  },
  {
   "cell_type": "code",
   "execution_count": 7,
   "metadata": {
    "collapsed": true
   },
   "outputs": [],
   "source": [
    "\"\"\"\n",
    "DON'T MODIFY ANYTHING IN THIS CELL\n",
    "\"\"\"\n",
    "import pickle\n",
    "import problem_unittests as tests\n",
    "import helper\n",
    "\n",
    "# Load the Preprocessed Validation data\n",
    "valid_features, valid_labels = pickle.load(open('preprocess_validation.p', mode='rb'))"
   ]
  },
  {
   "cell_type": "markdown",
   "metadata": {},
   "source": [
    "## Build the network\n",
    "For the neural network, you'll build each layer into a function.  Most of the code you've seen has been outside of functions. To test your code more thoroughly, we require that you put each layer in a function.  This allows us to give you better feedback and test for simple mistakes using our unittests before you submit your project.\n",
    "\n",
    ">**Note:** If you're finding it hard to dedicate enough time for this course each week, we've provided a small shortcut to this part of the project. In the next couple of problems, you'll have the option to use classes from the [TensorFlow Layers](https://www.tensorflow.org/api_docs/python/tf/layers) or [TensorFlow Layers (contrib)](https://www.tensorflow.org/api_guides/python/contrib.layers) packages to build each layer, except the layers you build in the \"Convolutional and Max Pooling Layer\" section.  TF Layers is similar to Keras's and TFLearn's abstraction to layers, so it's easy to pickup.\n",
    "\n",
    ">However, if you would like to get the most out of this course, try to solve all the problems _without_ using anything from the TF Layers packages. You **can** still use classes from other packages that happen to have the same name as ones you find in TF Layers! For example, instead of using the TF Layers version of the `conv2d` class, [tf.layers.conv2d](https://www.tensorflow.org/api_docs/python/tf/layers/conv2d), you would want to use the TF Neural Network version of `conv2d`, [tf.nn.conv2d](https://www.tensorflow.org/api_docs/python/tf/nn/conv2d). \n",
    "\n",
    "Let's begin!\n",
    "\n",
    "### Input\n",
    "The neural network needs to read the image data, one-hot encoded labels, and dropout keep probability. Implement the following functions\n",
    "* Implement `neural_net_image_input`\n",
    " * Return a [TF Placeholder](https://www.tensorflow.org/api_docs/python/tf/placeholder)\n",
    " * Set the shape using `image_shape` with batch size set to `None`.\n",
    " * Name the TensorFlow placeholder \"x\" using the TensorFlow `name` parameter in the [TF Placeholder](https://www.tensorflow.org/api_docs/python/tf/placeholder).\n",
    "* Implement `neural_net_label_input`\n",
    " * Return a [TF Placeholder](https://www.tensorflow.org/api_docs/python/tf/placeholder)\n",
    " * Set the shape using `n_classes` with batch size set to `None`.\n",
    " * Name the TensorFlow placeholder \"y\" using the TensorFlow `name` parameter in the [TF Placeholder](https://www.tensorflow.org/api_docs/python/tf/placeholder).\n",
    "* Implement `neural_net_keep_prob_input`\n",
    " * Return a [TF Placeholder](https://www.tensorflow.org/api_docs/python/tf/placeholder) for dropout keep probability.\n",
    " * Name the TensorFlow placeholder \"keep_prob\" using the TensorFlow `name` parameter in the [TF Placeholder](https://www.tensorflow.org/api_docs/python/tf/placeholder).\n",
    "\n",
    "These names will be used at the end of the project to load your saved model.\n",
    "\n",
    "Note: `None` for shapes in TensorFlow allow for a dynamic size."
   ]
  },
  {
   "cell_type": "code",
   "execution_count": 8,
   "metadata": {
    "collapsed": false
   },
   "outputs": [
    {
     "name": "stdout",
     "output_type": "stream",
     "text": [
      "Image Input Tests Passed.\n",
      "Label Input Tests Passed.\n",
      "Keep Prob Tests Passed.\n"
     ]
    }
   ],
   "source": [
    "import tensorflow as tf\n",
    "\n",
    "def neural_net_image_input(image_shape):\n",
    "    \"\"\"\n",
    "    Return a Tensor for a batch of image input\n",
    "    : image_shape: Shape of the images\n",
    "    : return: Tensor for image input.\n",
    "    \"\"\"\n",
    "    # TODO: Implement Function\n",
    "    x = tf.placeholder(tf.float32, shape=(None, *image_shape), name='x')\n",
    "    return x\n",
    "\n",
    "\n",
    "def neural_net_label_input(n_classes):\n",
    "    \"\"\"\n",
    "    Return a Tensor for a batch of label input\n",
    "    : n_classes: Number of classes\n",
    "    : return: Tensor for label input.\n",
    "    \"\"\"\n",
    "    # TODO: Implement Function\n",
    "    y = tf.placeholder(tf.int8, shape=[None, n_classes], name='y')\n",
    "    return y\n",
    "\n",
    "\n",
    "def neural_net_keep_prob_input():\n",
    "    \"\"\"\n",
    "    Return a Tensor for keep probability\n",
    "    : return: Tensor for keep probability.\n",
    "    \"\"\"\n",
    "    # TODO: Implement Function\n",
    "    keep_prob = tf.placeholder(tf.float32, name='keep_prob') \n",
    "    return keep_prob\n",
    "\n",
    "\n",
    "\"\"\"\n",
    "DON'T MODIFY ANYTHING IN THIS CELL THAT IS BELOW THIS LINE\n",
    "\"\"\"\n",
    "tf.reset_default_graph()\n",
    "tests.test_nn_image_inputs(neural_net_image_input)\n",
    "tests.test_nn_label_inputs(neural_net_label_input)\n",
    "tests.test_nn_keep_prob_inputs(neural_net_keep_prob_input)"
   ]
  },
  {
   "cell_type": "markdown",
   "metadata": {},
   "source": [
    "### Convolution and Max Pooling Layer\n",
    "Convolution layers have a lot of success with images. For this code cell, you should implement the function `conv2d_maxpool` to apply convolution then max pooling:\n",
    "* Create the weight and bias using `conv_ksize`, `conv_num_outputs` and the shape of `x_tensor`.\n",
    "* Apply a convolution to `x_tensor` using weight and `conv_strides`.\n",
    " * We recommend you use same padding, but you're welcome to use any padding.\n",
    "* Add bias\n",
    "* Add a nonlinear activation to the convolution.\n",
    "* Apply Max Pooling using `pool_ksize` and `pool_strides`.\n",
    " * We recommend you use same padding, but you're welcome to use any padding.\n",
    "\n",
    "**Note:** You **can't** use [TensorFlow Layers](https://www.tensorflow.org/api_docs/python/tf/layers) or [TensorFlow Layers (contrib)](https://www.tensorflow.org/api_guides/python/contrib.layers) for **this** layer, but you can still use TensorFlow's [Neural Network](https://www.tensorflow.org/api_docs/python/tf/nn) package. You may still use the shortcut option for all the **other** layers."
   ]
  },
  {
   "cell_type": "code",
   "execution_count": 9,
   "metadata": {
    "collapsed": false
   },
   "outputs": [
    {
     "name": "stdout",
     "output_type": "stream",
     "text": [
      "Tests Passed\n"
     ]
    }
   ],
   "source": [
    "def conv2d_maxpool(x_tensor, conv_num_outputs, conv_ksize, conv_strides, pool_ksize, pool_strides):\n",
    "    \"\"\"\n",
    "    Apply convolution then max pooling to x_tensor\n",
    "    :param x_tensor: TensorFlow Tensor\n",
    "    :param conv_num_outputs: Number of outputs for the convolutional layer\n",
    "    :param conv_ksize: kernal size 2-D Tuple for the convolutional layer\n",
    "    :param conv_strides: Stride 2-D Tuple for convolution\n",
    "    :param pool_ksize: kernal size 2-D Tuple for pool\n",
    "    :param pool_strides: Stride 2-D Tuple for pool\n",
    "    : return: A tensor that represents convolution and max pooling of x_tensor\n",
    "    \"\"\"\n",
    "    # Preparation\n",
    "    n_channels_input = x_tensor.shape.as_list()[-1]\n",
    "    weight = tf.Variable(tf.truncated_normal((*conv_ksize, n_channels_input, conv_num_outputs),\n",
    "                                             stddev=.1))\n",
    "    bias = tf.Variable(tf.zeros(conv_num_outputs))\n",
    "    \n",
    "    # Apply conv\n",
    "    conv = tf.nn.conv2d(x_tensor, weight, strides=(1, *conv_strides, 1), padding='SAME')\n",
    "    # Add bias\n",
    "    conv = tf.nn.bias_add(conv, bias)\n",
    "    # Apply activation function (default activation function is relu func)\n",
    "    conv = tf.nn.relu(conv)\n",
    "    # Apply max pooling\n",
    "    conv = tf.nn.max_pool(conv, ksize=(1, *pool_ksize, 1), \n",
    "                          strides=(1, *pool_strides, 1), padding='SAME')\n",
    "    \n",
    "    return conv \n",
    "\"\"\"\n",
    "DON'T MODIFY ANYTHING IN THIS CELL THAT IS BELOW THIS LINE\n",
    "\"\"\"\n",
    "tests.test_con_pool(conv2d_maxpool)"
   ]
  },
  {
   "cell_type": "markdown",
   "metadata": {},
   "source": [
    "### Flatten Layer\n",
    "Implement the `flatten` function to change the dimension of `x_tensor` from a 4-D tensor to a 2-D tensor.  The output should be the shape (*Batch Size*, *Flattened Image Size*). Shortcut option: you can use classes from the [TensorFlow Layers](https://www.tensorflow.org/api_docs/python/tf/layers) or [TensorFlow Layers (contrib)](https://www.tensorflow.org/api_guides/python/contrib.layers) packages for this layer. For more of a challenge, only use other TensorFlow packages."
   ]
  },
  {
   "cell_type": "code",
   "execution_count": 10,
   "metadata": {
    "collapsed": false
   },
   "outputs": [
    {
     "name": "stdout",
     "output_type": "stream",
     "text": [
      "Tests Passed\n"
     ]
    }
   ],
   "source": [
    "from functools import reduce\n",
    "from operator import mul\n",
    "\n",
    "def flatten(x_tensor):\n",
    "    \"\"\"\n",
    "    Flatten x_tensor to (Batch Size, Flattened Image Size)\n",
    "    : x_tensor: A tensor of size (Batch Size, ...), where ... are the image dimensions.\n",
    "    : return: A tensor of size (Batch Size, Flattened Image Size).\n",
    "    \"\"\"\n",
    "    # TODO: Implement Function\n",
    "    _, *image_size = x_tensor.get_shape().as_list()\n",
    "    return tf.reshape(x_tensor, (-1, reduce(mul, image_size)))\n",
    "\n",
    "\n",
    "\"\"\"\n",
    "DON'T MODIFY ANYTHING IN THIS CELL THAT IS BELOW THIS LINE\n",
    "\"\"\"\n",
    "tests.test_flatten(flatten)"
   ]
  },
  {
   "cell_type": "markdown",
   "metadata": {},
   "source": [
    "### Fully-Connected Layer\n",
    "Implement the `fully_conn` function to apply a fully connected layer to `x_tensor` with the shape (*Batch Size*, *num_outputs*). Shortcut option: you can use classes from the [TensorFlow Layers](https://www.tensorflow.org/api_docs/python/tf/layers) or [TensorFlow Layers (contrib)](https://www.tensorflow.org/api_guides/python/contrib.layers) packages for this layer. For more of a challenge, only use other TensorFlow packages."
   ]
  },
  {
   "cell_type": "code",
   "execution_count": 11,
   "metadata": {
    "collapsed": false
   },
   "outputs": [
    {
     "name": "stdout",
     "output_type": "stream",
     "text": [
      "Tests Passed\n"
     ]
    }
   ],
   "source": [
    "import numpy as np\n",
    "\n",
    "def fully_conn(x_tensor, num_outputs):\n",
    "    \"\"\"\n",
    "    Apply a fully connected layer to x_tensor using weight and bias\n",
    "    : x_tensor: A 2-D tensor where the first dimension is batch size.\n",
    "    : num_outputs: The number of output that the new tensor should be.\n",
    "    : return: A 2-D tensor where the second dimension is num_outputs.\n",
    "    \"\"\"\n",
    "    # TODO: Implement Function\n",
    "    num_inputs = x_tensor.get_shape().as_list()[1]\n",
    "    weights_shape = (num_inputs, num_outputs)\n",
    "    weights = tf.Variable(tf.truncated_normal(weights_shape, stddev=.1))\n",
    "    bias = tf.Variable(np.zeros(num_outputs), dtype=tf.float32)\n",
    "    act = tf.matmul(x_tensor, weights)\n",
    "    act = tf.nn.bias_add(act, bias)\n",
    "    \n",
    "    return tf.nn.relu(act)\n",
    "\n",
    "\n",
    "\"\"\"\n",
    "DON'T MODIFY ANYTHING IN THIS CELL THAT IS BELOW THIS LINE\n",
    "\"\"\"\n",
    "tests.test_fully_conn(fully_conn)"
   ]
  },
  {
   "cell_type": "markdown",
   "metadata": {},
   "source": [
    "### Output Layer\n",
    "Implement the `output` function to apply a fully connected layer to `x_tensor` with the shape (*Batch Size*, *num_outputs*). Shortcut option: you can use classes from the [TensorFlow Layers](https://www.tensorflow.org/api_docs/python/tf/layers) or [TensorFlow Layers (contrib)](https://www.tensorflow.org/api_guides/python/contrib.layers) packages for this layer. For more of a challenge, only use other TensorFlow packages.\n",
    "\n",
    "**Note:** Activation, softmax, or cross entropy should **not** be applied to this."
   ]
  },
  {
   "cell_type": "code",
   "execution_count": 12,
   "metadata": {
    "collapsed": false
   },
   "outputs": [
    {
     "name": "stdout",
     "output_type": "stream",
     "text": [
      "Tests Passed\n"
     ]
    }
   ],
   "source": [
    "def output(x_tensor, num_outputs):\n",
    "    \"\"\"\n",
    "    Apply a output layer to x_tensor using weight and bias\n",
    "    : x_tensor: A 2-D tensor where the first dimension is batch size.\n",
    "    : num_outputs: The number of output that the new tensor should be.\n",
    "    : return: A 2-D tensor where the second dimension is num_outputs.\n",
    "    \"\"\"\n",
    "    # TODO: Implement Function\n",
    "    num_inputs = x_tensor.get_shape().as_list()[1]\n",
    "    weights_shape = (num_inputs, num_outputs)\n",
    "    weights = tf.Variable(tf.truncated_normal(weights_shape, stddev=.1))\n",
    "    bias = tf.Variable(np.zeros(num_outputs), dtype=tf.float32)\n",
    "    \n",
    "    return tf.nn.bias_add(tf.matmul(x_tensor, weights), bias)\n",
    "\n",
    "\n",
    "\"\"\"\n",
    "DON'T MODIFY ANYTHING IN THIS CELL THAT IS BELOW THIS LINE\n",
    "\"\"\"\n",
    "tests.test_output(output)"
   ]
  },
  {
   "cell_type": "markdown",
   "metadata": {},
   "source": [
    "### Create Convolutional Model\n",
    "Implement the function `conv_net` to create a convolutional neural network model. The function takes in a batch of images, `x`, and outputs logits.  Use the layers you created above to create this model:\n",
    "\n",
    "* Apply 1, 2, or 3 Convolution and Max Pool layers\n",
    "* Apply a Flatten Layer\n",
    "* Apply 1, 2, or 3 Fully Connected Layers\n",
    "* Apply an Output Layer\n",
    "* Return the output\n",
    "* Apply [TensorFlow's Dropout](https://www.tensorflow.org/api_docs/python/tf/nn/dropout) to one or more layers in the model using `keep_prob`. "
   ]
  },
  {
   "cell_type": "code",
   "execution_count": 13,
   "metadata": {
    "collapsed": false
   },
   "outputs": [
    {
     "name": "stdout",
     "output_type": "stream",
     "text": [
      "Neural Network Built!\n"
     ]
    }
   ],
   "source": [
    "def conv_net(x, keep_prob):\n",
    "    \"\"\"\n",
    "    Create a convolutional neural network model\n",
    "    : x: Placeholder tensor that holds image data.\n",
    "    : keep_prob: Placeholder tensor that hold dropout keep probability.\n",
    "    : return: Tensor that represents logits\n",
    "    \"\"\"\n",
    "    # TODO: Apply 1, 2, or 3 Convolution and Max Pool layers\n",
    "    #    Play around with different number of outputs, kernel size and stride\n",
    "    # Function Definition from Above:\n",
    "    #    conv2d_maxpool(x_tensor, conv_num_outputs, conv_ksize, conv_strides, pool_ksize, pool_strides)\n",
    "    conv_ksize = (3, 3)\n",
    "    conv_strides = (1, 1)\n",
    "    pool_ksize = (2, 2)\n",
    "    pool_strides = (2, 2)\n",
    "    # pool_strides = (1, 1)\n",
    "    \n",
    "    # x's shape : (batch, 32, 32, 3)\n",
    "    x = conv2d_maxpool(x, 64, conv_ksize, conv_strides, pool_ksize, pool_strides)\n",
    "    x = tf.nn.dropout(x, keep_prob)\n",
    "    # x's shape : (batch, 16, 16, 64)\n",
    "    x = conv2d_maxpool(x, 128, conv_ksize, conv_strides, pool_ksize, pool_strides)\n",
    "    x = tf.nn.dropout(x, keep_prob)\n",
    "    # x's shape : (batch, 8, 8, 128)\n",
    "    x = conv2d_maxpool(x, 256, conv_ksize, conv_strides, pool_ksize, pool_strides)\n",
    "    x = tf.nn.dropout(x, keep_prob)\n",
    "    # x's shape : (batch, 4, 4, 256)\n",
    "    \n",
    "\n",
    "    # TODO: Apply a Flatten Layer\n",
    "    # Function Definition from Above:\n",
    "    #   flatten(x_tensor)\n",
    "    x = flatten(x)\n",
    "    # x's shape : (batch, 4x4x256=4096)\n",
    "\n",
    "    # TODO: Apply 1, 2, or 3 Fully Connected Layers\n",
    "    #    Play around with different number of outputs\n",
    "    # Function Definition from Above:\n",
    "    #   fully_conn(x_tensor, num_outputs)\n",
    "#     x = fully_conn(x, 128)\n",
    "#     x = fully_conn(x, 256)\n",
    "    x = fully_conn(x, 512)\n",
    "    x = tf.nn.dropout(x, keep_prob)\n",
    "    \n",
    "    \n",
    "    # TODO: Apply an Output Layer\n",
    "    #    Set this to the number of classes\n",
    "    # Function Definition from Above:\n",
    "    #   output(x_tensor, num_outputs)\n",
    "    out = output(x, 10)\n",
    "    \n",
    "    \n",
    "    # TODO: return output\n",
    "    return out\n",
    "\n",
    "\n",
    "\"\"\"\n",
    "DON'T MODIFY ANYTHING IN THIS CELL THAT IS BELOW THIS LINE\n",
    "\"\"\"\n",
    "\n",
    "##############################\n",
    "## Build the Neural Network ##\n",
    "##############################\n",
    "\n",
    "# Remove previous weights, bias, inputs, etc..\n",
    "tf.reset_default_graph()\n",
    "\n",
    "# Inputs\n",
    "x = neural_net_image_input((32, 32, 3))\n",
    "y = neural_net_label_input(10)\n",
    "keep_prob = neural_net_keep_prob_input()\n",
    "\n",
    "# Model\n",
    "logits = conv_net(x, keep_prob)\n",
    "\n",
    "# Name logits Tensor, so that is can be loaded from disk after training\n",
    "logits = tf.identity(logits, name='logits')\n",
    "\n",
    "# Loss and Optimizer\n",
    "cost = tf.reduce_mean(tf.nn.softmax_cross_entropy_with_logits(logits=logits, labels=y))\n",
    "optimizer = tf.train.AdamOptimizer().minimize(cost)\n",
    "\n",
    "# Accuracy\n",
    "correct_pred = tf.equal(tf.argmax(logits, 1), tf.argmax(y, 1))\n",
    "accuracy = tf.reduce_mean(tf.cast(correct_pred, tf.float32), name='accuracy')\n",
    "\n",
    "tests.test_conv_net(conv_net)"
   ]
  },
  {
   "cell_type": "markdown",
   "metadata": {},
   "source": [
    "## Train the Neural Network\n",
    "### Single Optimization\n",
    "Implement the function `train_neural_network` to do a single optimization.  The optimization should use `optimizer` to optimize in `session` with a `feed_dict` of the following:\n",
    "* `x` for image input\n",
    "* `y` for labels\n",
    "* `keep_prob` for keep probability for dropout\n",
    "\n",
    "This function will be called for each batch, so `tf.global_variables_initializer()` has already been called.\n",
    "\n",
    "Note: Nothing needs to be returned. This function is only optimizing the neural network."
   ]
  },
  {
   "cell_type": "code",
   "execution_count": 14,
   "metadata": {
    "collapsed": false
   },
   "outputs": [
    {
     "name": "stdout",
     "output_type": "stream",
     "text": [
      "Tests Passed\n"
     ]
    }
   ],
   "source": [
    "def train_neural_network(session, optimizer, keep_probability, feature_batch, label_batch):\n",
    "    \"\"\"\n",
    "    Optimize the session on a batch of images and labels\n",
    "    : session: Current TensorFlow session\n",
    "    : optimizer: TensorFlow optimizer function\n",
    "    : keep_probability: keep probability\n",
    "    : feature_batch: Batch of Numpy image data\n",
    "    : label_batch: Batch of Numpy label data\n",
    "    \"\"\"\n",
    "    # TODO: Implement Function\n",
    "    session.run(optimizer , feed_dict={x: feature_batch, y: label_batch, keep_prob: keep_probability})\n",
    "\n",
    "\n",
    "\"\"\"\n",
    "DON'T MODIFY ANYTHING IN THIS CELL THAT IS BELOW THIS LINE\n",
    "\"\"\"\n",
    "tests.test_train_nn(train_neural_network)"
   ]
  },
  {
   "cell_type": "markdown",
   "metadata": {},
   "source": [
    "### Show Stats\n",
    "Implement the function `print_stats` to print loss and validation accuracy.  Use the global variables `valid_features` and `valid_labels` to calculate validation accuracy.  Use a keep probability of `1.0` to calculate the loss and validation accuracy."
   ]
  },
  {
   "cell_type": "code",
   "execution_count": 15,
   "metadata": {
    "collapsed": false
   },
   "outputs": [],
   "source": [
    "def print_stats(session, feature_batch, label_batch, cost, accuracy):\n",
    "    \"\"\"\n",
    "    Print information about loss and validation accuracy\n",
    "    : session: Current TensorFlow session\n",
    "    : feature_batch: Batch of Numpy image data\n",
    "    : label_batch: Batch of Numpy label data\n",
    "    : cost: TensorFlow cost function\n",
    "    : accuracy: TensorFlow accuracy function\n",
    "    \"\"\"\n",
    "    global valid_features, valid_labels\n",
    "    validation_accuracy = session.run(accuracy,\n",
    "                                      feed_dict={x: valid_features, y: valid_labels, keep_prob: 1.})\n",
    "    loss = session.run(cost, \n",
    "                       feed_dict = {x: feature_batch, y: label_batch, keep_prob: 1.})\n",
    "    \n",
    "    \n",
    "    print('Validation accuracy: {:.3f}; Loss: {:.3f}'.format(validation_accuracy, loss))"
   ]
  },
  {
   "cell_type": "markdown",
   "metadata": {},
   "source": [
    "### Hyperparameters\n",
    "Tune the following parameters:\n",
    "* Set `epochs` to the number of iterations until the network stops learning or start overfitting\n",
    "* Set `batch_size` to the highest number that your machine has memory for.  Most people set them to common sizes of memory:\n",
    " * 64\n",
    " * 128\n",
    " * 256\n",
    " * ...\n",
    "* Set `keep_probability` to the probability of keeping a node using dropout"
   ]
  },
  {
   "cell_type": "code",
   "execution_count": 34,
   "metadata": {
    "collapsed": true
   },
   "outputs": [],
   "source": [
    "# TODO: Tune Parameters\n",
    "epochs = 10\n",
    "# epochs = 50\n",
    "batch_size = 124\n",
    "keep_probability = .7"
   ]
  },
  {
   "cell_type": "markdown",
   "metadata": {},
   "source": [
    "### Train on a Single CIFAR-10 Batch\n",
    "Instead of training the neural network on all the CIFAR-10 batches of data, let's use a single batch. This should save time while you iterate on the model to get a better accuracy.  Once the final validation accuracy is 50% or greater, run the model on all the data in the next section."
   ]
  },
  {
   "cell_type": "code",
   "execution_count": 35,
   "metadata": {
    "collapsed": false
   },
   "outputs": [
    {
     "name": "stdout",
     "output_type": "stream",
     "text": [
      "Checking the Training on a Single Batch...\n",
      "Epoch  1, CIFAR-10 Batch 1:  Validation accuracy: 0.230; Loss: 2.201\n",
      "Epoch  2, CIFAR-10 Batch 1:  Validation accuracy: 0.334; Loss: 1.968\n",
      "Epoch  3, CIFAR-10 Batch 1:  Validation accuracy: 0.396; Loss: 1.896\n",
      "Epoch  4, CIFAR-10 Batch 1:  Validation accuracy: 0.434; Loss: 1.794\n",
      "Epoch  5, CIFAR-10 Batch 1:  Validation accuracy: 0.467; Loss: 1.719\n",
      "Epoch  6, CIFAR-10 Batch 1:  Validation accuracy: 0.487; Loss: 1.606\n",
      "Epoch  7, CIFAR-10 Batch 1:  Validation accuracy: 0.506; Loss: 1.564\n",
      "Epoch  8, CIFAR-10 Batch 1:  Validation accuracy: 0.532; Loss: 1.477\n",
      "Epoch  9, CIFAR-10 Batch 1:  Validation accuracy: 0.531; Loss: 1.488\n",
      "Epoch 10, CIFAR-10 Batch 1:  Validation accuracy: 0.541; Loss: 1.442\n"
     ]
    }
   ],
   "source": [
    "\"\"\"\n",
    "DON'T MODIFY ANYTHING IN THIS CELL\n",
    "\"\"\"\n",
    "print('Checking the Training on a Single Batch...')\n",
    "with tf.Session() as sess:\n",
    "    # Initializing the variables\n",
    "    sess.run(tf.global_variables_initializer())\n",
    "    \n",
    "    # Training cycle\n",
    "    for epoch in range(epochs):\n",
    "        batch_i = 1\n",
    "        for batch_features, batch_labels in helper.load_preprocess_training_batch(batch_i, batch_size):\n",
    "            train_neural_network(sess, optimizer, keep_probability, batch_features, batch_labels)\n",
    "        print('Epoch {:>2}, CIFAR-10 Batch {}:  '.format(epoch + 1, batch_i), end='')\n",
    "        print_stats(sess, batch_features, batch_labels, cost, accuracy)"
   ]
  },
  {
   "cell_type": "markdown",
   "metadata": {},
   "source": [
    "### Fully Train the Model\n",
    "Now that you got a good accuracy with a single CIFAR-10 batch, try it with all five batches."
   ]
  },
  {
   "cell_type": "code",
   "execution_count": 36,
   "metadata": {
    "collapsed": true
   },
   "outputs": [],
   "source": [
    "epochs = 50"
   ]
  },
  {
   "cell_type": "code",
   "execution_count": 37,
   "metadata": {
    "collapsed": false,
    "scrolled": true
   },
   "outputs": [
    {
     "name": "stdout",
     "output_type": "stream",
     "text": [
      "Training...\n",
      "Epoch  1, CIFAR-10 Batch 1:  Validation accuracy: 0.257; Loss: 2.115\n",
      "Epoch  1, CIFAR-10 Batch 2:  Validation accuracy: 0.372; Loss: 1.792\n",
      "Epoch  1, CIFAR-10 Batch 3:  Validation accuracy: 0.392; Loss: 1.639\n",
      "Epoch  1, CIFAR-10 Batch 4:  Validation accuracy: 0.437; Loss: 1.647\n",
      "Epoch  1, CIFAR-10 Batch 5:  Validation accuracy: 0.452; Loss: 1.495\n",
      "Epoch  2, CIFAR-10 Batch 1:  Validation accuracy: 0.491; Loss: 1.663\n",
      "Epoch  2, CIFAR-10 Batch 2:  Validation accuracy: 0.473; Loss: 1.466\n",
      "Epoch  2, CIFAR-10 Batch 3:  Validation accuracy: 0.505; Loss: 1.291\n",
      "Epoch  2, CIFAR-10 Batch 4:  Validation accuracy: 0.536; Loss: 1.323\n",
      "Epoch  2, CIFAR-10 Batch 5:  Validation accuracy: 0.543; Loss: 1.213\n",
      "Epoch  3, CIFAR-10 Batch 1:  Validation accuracy: 0.578; Loss: 1.407\n",
      "Epoch  3, CIFAR-10 Batch 2:  Validation accuracy: 0.554; Loss: 1.282\n",
      "Epoch  3, CIFAR-10 Batch 3:  Validation accuracy: 0.573; Loss: 1.099\n",
      "Epoch  3, CIFAR-10 Batch 4:  Validation accuracy: 0.603; Loss: 1.159\n",
      "Epoch  3, CIFAR-10 Batch 5:  Validation accuracy: 0.582; Loss: 1.081\n",
      "Epoch  4, CIFAR-10 Batch 1:  Validation accuracy: 0.627; Loss: 1.269\n",
      "Epoch  4, CIFAR-10 Batch 2:  Validation accuracy: 0.611; Loss: 1.048\n",
      "Epoch  4, CIFAR-10 Batch 3:  Validation accuracy: 0.625; Loss: 0.912\n",
      "Epoch  4, CIFAR-10 Batch 4:  Validation accuracy: 0.635; Loss: 1.019\n",
      "Epoch  4, CIFAR-10 Batch 5:  Validation accuracy: 0.632; Loss: 0.922\n",
      "Epoch  5, CIFAR-10 Batch 1:  Validation accuracy: 0.661; Loss: 1.113\n",
      "Epoch  5, CIFAR-10 Batch 2:  Validation accuracy: 0.653; Loss: 1.041\n",
      "Epoch  5, CIFAR-10 Batch 3:  Validation accuracy: 0.666; Loss: 0.715\n",
      "Epoch  5, CIFAR-10 Batch 4:  Validation accuracy: 0.664; Loss: 0.919\n",
      "Epoch  5, CIFAR-10 Batch 5:  Validation accuracy: 0.640; Loss: 0.919\n",
      "Epoch  6, CIFAR-10 Batch 1:  Validation accuracy: 0.674; Loss: 1.049\n",
      "Epoch  6, CIFAR-10 Batch 2:  Validation accuracy: 0.682; Loss: 0.891\n",
      "Epoch  6, CIFAR-10 Batch 3:  Validation accuracy: 0.685; Loss: 0.622\n",
      "Epoch  6, CIFAR-10 Batch 4:  Validation accuracy: 0.693; Loss: 0.816\n",
      "Epoch  6, CIFAR-10 Batch 5:  Validation accuracy: 0.690; Loss: 0.734\n",
      "Epoch  7, CIFAR-10 Batch 1:  Validation accuracy: 0.711; Loss: 0.955\n",
      "Epoch  7, CIFAR-10 Batch 2:  Validation accuracy: 0.694; Loss: 0.793\n",
      "Epoch  7, CIFAR-10 Batch 3:  Validation accuracy: 0.683; Loss: 0.550\n",
      "Epoch  7, CIFAR-10 Batch 4:  Validation accuracy: 0.715; Loss: 0.751\n",
      "Epoch  7, CIFAR-10 Batch 5:  Validation accuracy: 0.706; Loss: 0.642\n",
      "Epoch  8, CIFAR-10 Batch 1:  Validation accuracy: 0.712; Loss: 0.848\n",
      "Epoch  8, CIFAR-10 Batch 2:  Validation accuracy: 0.727; Loss: 0.714\n",
      "Epoch  8, CIFAR-10 Batch 3:  Validation accuracy: 0.699; Loss: 0.524\n",
      "Epoch  8, CIFAR-10 Batch 4:  Validation accuracy: 0.732; Loss: 0.656\n",
      "Epoch  8, CIFAR-10 Batch 5:  Validation accuracy: 0.702; Loss: 0.596\n",
      "Epoch  9, CIFAR-10 Batch 1:  Validation accuracy: 0.721; Loss: 0.764\n",
      "Epoch  9, CIFAR-10 Batch 2:  Validation accuracy: 0.720; Loss: 0.695\n",
      "Epoch  9, CIFAR-10 Batch 3:  Validation accuracy: 0.728; Loss: 0.423\n",
      "Epoch  9, CIFAR-10 Batch 4:  Validation accuracy: 0.753; Loss: 0.598\n",
      "Epoch  9, CIFAR-10 Batch 5:  Validation accuracy: 0.726; Loss: 0.516\n",
      "Epoch 10, CIFAR-10 Batch 1:  Validation accuracy: 0.742; Loss: 0.700\n",
      "Epoch 10, CIFAR-10 Batch 2:  Validation accuracy: 0.737; Loss: 0.597\n",
      "Epoch 10, CIFAR-10 Batch 3:  Validation accuracy: 0.743; Loss: 0.403\n",
      "Epoch 10, CIFAR-10 Batch 4:  Validation accuracy: 0.747; Loss: 0.540\n",
      "Epoch 10, CIFAR-10 Batch 5:  Validation accuracy: 0.744; Loss: 0.462\n",
      "Epoch 11, CIFAR-10 Batch 1:  Validation accuracy: 0.750; Loss: 0.679\n",
      "Epoch 11, CIFAR-10 Batch 2:  Validation accuracy: 0.743; Loss: 0.569\n",
      "Epoch 11, CIFAR-10 Batch 3:  Validation accuracy: 0.752; Loss: 0.329\n",
      "Epoch 11, CIFAR-10 Batch 4:  Validation accuracy: 0.744; Loss: 0.495\n",
      "Epoch 11, CIFAR-10 Batch 5:  Validation accuracy: 0.769; Loss: 0.400\n",
      "Epoch 12, CIFAR-10 Batch 1:  Validation accuracy: 0.762; Loss: 0.571\n",
      "Epoch 12, CIFAR-10 Batch 2:  Validation accuracy: 0.756; Loss: 0.517\n",
      "Epoch 12, CIFAR-10 Batch 3:  Validation accuracy: 0.769; Loss: 0.274\n",
      "Epoch 12, CIFAR-10 Batch 4:  Validation accuracy: 0.775; Loss: 0.420\n",
      "Epoch 12, CIFAR-10 Batch 5:  Validation accuracy: 0.753; Loss: 0.369\n",
      "Epoch 13, CIFAR-10 Batch 1:  Validation accuracy: 0.780; Loss: 0.478\n",
      "Epoch 13, CIFAR-10 Batch 2:  Validation accuracy: 0.768; Loss: 0.458\n",
      "Epoch 13, CIFAR-10 Batch 3:  Validation accuracy: 0.775; Loss: 0.242\n",
      "Epoch 13, CIFAR-10 Batch 4:  Validation accuracy: 0.771; Loss: 0.421\n",
      "Epoch 13, CIFAR-10 Batch 5:  Validation accuracy: 0.778; Loss: 0.354\n",
      "Epoch 14, CIFAR-10 Batch 1:  Validation accuracy: 0.771; Loss: 0.454\n",
      "Epoch 14, CIFAR-10 Batch 2:  Validation accuracy: 0.769; Loss: 0.430\n",
      "Epoch 14, CIFAR-10 Batch 3:  Validation accuracy: 0.773; Loss: 0.257\n",
      "Epoch 14, CIFAR-10 Batch 4:  Validation accuracy: 0.780; Loss: 0.338\n",
      "Epoch 14, CIFAR-10 Batch 5:  Validation accuracy: 0.773; Loss: 0.262\n",
      "Epoch 15, CIFAR-10 Batch 1:  Validation accuracy: 0.776; Loss: 0.461\n",
      "Epoch 15, CIFAR-10 Batch 2:  Validation accuracy: 0.756; Loss: 0.528\n",
      "Epoch 15, CIFAR-10 Batch 3:  Validation accuracy: 0.780; Loss: 0.206\n",
      "Epoch 15, CIFAR-10 Batch 4:  Validation accuracy: 0.784; Loss: 0.296\n",
      "Epoch 15, CIFAR-10 Batch 5:  Validation accuracy: 0.785; Loss: 0.228\n",
      "Epoch 16, CIFAR-10 Batch 1:  Validation accuracy: 0.775; Loss: 0.412\n",
      "Epoch 16, CIFAR-10 Batch 2:  Validation accuracy: 0.771; Loss: 0.397\n",
      "Epoch 16, CIFAR-10 Batch 3:  Validation accuracy: 0.789; Loss: 0.179\n",
      "Epoch 16, CIFAR-10 Batch 4:  Validation accuracy: 0.787; Loss: 0.285\n",
      "Epoch 16, CIFAR-10 Batch 5:  Validation accuracy: 0.784; Loss: 0.199\n",
      "Epoch 17, CIFAR-10 Batch 1:  Validation accuracy: 0.786; Loss: 0.382\n",
      "Epoch 17, CIFAR-10 Batch 2:  Validation accuracy: 0.773; Loss: 0.297\n",
      "Epoch 17, CIFAR-10 Batch 3:  Validation accuracy: 0.784; Loss: 0.135\n",
      "Epoch 17, CIFAR-10 Batch 4:  Validation accuracy: 0.788; Loss: 0.222\n",
      "Epoch 17, CIFAR-10 Batch 5:  Validation accuracy: 0.791; Loss: 0.190\n",
      "Epoch 18, CIFAR-10 Batch 1:  Validation accuracy: 0.788; Loss: 0.325\n",
      "Epoch 18, CIFAR-10 Batch 2:  Validation accuracy: 0.790; Loss: 0.276\n",
      "Epoch 18, CIFAR-10 Batch 3:  Validation accuracy: 0.789; Loss: 0.122\n",
      "Epoch 18, CIFAR-10 Batch 4:  Validation accuracy: 0.781; Loss: 0.213\n",
      "Epoch 18, CIFAR-10 Batch 5:  Validation accuracy: 0.787; Loss: 0.153\n",
      "Epoch 19, CIFAR-10 Batch 1:  Validation accuracy: 0.793; Loss: 0.228\n",
      "Epoch 19, CIFAR-10 Batch 2:  Validation accuracy: 0.792; Loss: 0.205\n",
      "Epoch 19, CIFAR-10 Batch 3:  Validation accuracy: 0.790; Loss: 0.108\n",
      "Epoch 19, CIFAR-10 Batch 4:  Validation accuracy: 0.777; Loss: 0.276\n",
      "Epoch 19, CIFAR-10 Batch 5:  Validation accuracy: 0.782; Loss: 0.143\n",
      "Epoch 20, CIFAR-10 Batch 1:  Validation accuracy: 0.796; Loss: 0.237\n",
      "Epoch 20, CIFAR-10 Batch 2:  Validation accuracy: 0.784; Loss: 0.250\n",
      "Epoch 20, CIFAR-10 Batch 3:  Validation accuracy: 0.794; Loss: 0.105\n",
      "Epoch 20, CIFAR-10 Batch 4:  Validation accuracy: 0.797; Loss: 0.163\n",
      "Epoch 20, CIFAR-10 Batch 5:  Validation accuracy: 0.792; Loss: 0.099\n",
      "Epoch 21, CIFAR-10 Batch 1:  Validation accuracy: 0.791; Loss: 0.213\n",
      "Epoch 21, CIFAR-10 Batch 2:  Validation accuracy: 0.793; Loss: 0.193\n",
      "Epoch 21, CIFAR-10 Batch 3:  Validation accuracy: 0.793; Loss: 0.081\n",
      "Epoch 21, CIFAR-10 Batch 4:  Validation accuracy: 0.795; Loss: 0.127\n",
      "Epoch 21, CIFAR-10 Batch 5:  Validation accuracy: 0.794; Loss: 0.102\n",
      "Epoch 22, CIFAR-10 Batch 1:  Validation accuracy: 0.793; Loss: 0.175\n",
      "Epoch 22, CIFAR-10 Batch 2:  Validation accuracy: 0.798; Loss: 0.136\n",
      "Epoch 22, CIFAR-10 Batch 3:  Validation accuracy: 0.793; Loss: 0.073\n",
      "Epoch 22, CIFAR-10 Batch 4:  Validation accuracy: 0.793; Loss: 0.135\n",
      "Epoch 22, CIFAR-10 Batch 5:  Validation accuracy: 0.794; Loss: 0.110\n",
      "Epoch 23, CIFAR-10 Batch 1:  Validation accuracy: 0.799; Loss: 0.160\n",
      "Epoch 23, CIFAR-10 Batch 2:  Validation accuracy: 0.792; Loss: 0.149\n",
      "Epoch 23, CIFAR-10 Batch 3:  Validation accuracy: 0.777; Loss: 0.079\n",
      "Epoch 23, CIFAR-10 Batch 4:  Validation accuracy: 0.802; Loss: 0.122\n",
      "Epoch 23, CIFAR-10 Batch 5:  Validation accuracy: 0.793; Loss: 0.082\n",
      "Epoch 24, CIFAR-10 Batch 1:  Validation accuracy: 0.806; Loss: 0.156\n",
      "Epoch 24, CIFAR-10 Batch 2:  Validation accuracy: 0.790; Loss: 0.124\n",
      "Epoch 24, CIFAR-10 Batch 3:  Validation accuracy: 0.791; Loss: 0.047\n",
      "Epoch 24, CIFAR-10 Batch 4:  Validation accuracy: 0.794; Loss: 0.129\n",
      "Epoch 24, CIFAR-10 Batch 5:  Validation accuracy: 0.790; Loss: 0.070\n",
      "Epoch 25, CIFAR-10 Batch 1:  Validation accuracy: 0.799; Loss: 0.121\n",
      "Epoch 25, CIFAR-10 Batch 2:  Validation accuracy: 0.782; Loss: 0.177\n",
      "Epoch 25, CIFAR-10 Batch 3:  Validation accuracy: 0.798; Loss: 0.039\n",
      "Epoch 25, CIFAR-10 Batch 4:  Validation accuracy: 0.791; Loss: 0.128\n",
      "Epoch 25, CIFAR-10 Batch 5:  Validation accuracy: 0.796; Loss: 0.061\n",
      "Epoch 26, CIFAR-10 Batch 1:  Validation accuracy: 0.799; Loss: 0.106\n",
      "Epoch 26, CIFAR-10 Batch 2:  Validation accuracy: 0.791; Loss: 0.091\n",
      "Epoch 26, CIFAR-10 Batch 3:  Validation accuracy: 0.793; Loss: 0.053\n",
      "Epoch 26, CIFAR-10 Batch 4:  Validation accuracy: 0.798; Loss: 0.070\n",
      "Epoch 26, CIFAR-10 Batch 5:  Validation accuracy: 0.801; Loss: 0.049\n",
      "Epoch 27, CIFAR-10 Batch 1:  Validation accuracy: 0.793; Loss: 0.069\n",
      "Epoch 27, CIFAR-10 Batch 2:  Validation accuracy: 0.787; Loss: 0.102\n",
      "Epoch 27, CIFAR-10 Batch 3:  Validation accuracy: 0.793; Loss: 0.037\n",
      "Epoch 27, CIFAR-10 Batch 4:  Validation accuracy: 0.799; Loss: 0.072\n",
      "Epoch 27, CIFAR-10 Batch 5:  Validation accuracy: 0.805; Loss: 0.044\n",
      "Epoch 28, CIFAR-10 Batch 1:  Validation accuracy: 0.806; Loss: 0.091\n",
      "Epoch 28, CIFAR-10 Batch 2:  Validation accuracy: 0.802; Loss: 0.060\n",
      "Epoch 28, CIFAR-10 Batch 3:  Validation accuracy: 0.806; Loss: 0.034\n",
      "Epoch 28, CIFAR-10 Batch 4:  Validation accuracy: 0.793; Loss: 0.078\n",
      "Epoch 28, CIFAR-10 Batch 5:  Validation accuracy: 0.799; Loss: 0.050\n",
      "Epoch 29, CIFAR-10 Batch 1:  Validation accuracy: 0.804; Loss: 0.066\n",
      "Epoch 29, CIFAR-10 Batch 2:  Validation accuracy: 0.788; Loss: 0.119\n",
      "Epoch 29, CIFAR-10 Batch 3:  Validation accuracy: 0.801; Loss: 0.046\n",
      "Epoch 29, CIFAR-10 Batch 4:  Validation accuracy: 0.804; Loss: 0.062\n",
      "Epoch 29, CIFAR-10 Batch 5:  Validation accuracy: 0.806; Loss: 0.035\n",
      "Epoch 30, CIFAR-10 Batch 1:  Validation accuracy: 0.805; Loss: 0.044\n",
      "Epoch 30, CIFAR-10 Batch 2:  Validation accuracy: 0.802; Loss: 0.063\n",
      "Epoch 30, CIFAR-10 Batch 3:  Validation accuracy: 0.788; Loss: 0.035\n",
      "Epoch 30, CIFAR-10 Batch 4:  Validation accuracy: 0.806; Loss: 0.048\n",
      "Epoch 30, CIFAR-10 Batch 5:  Validation accuracy: 0.800; Loss: 0.058\n",
      "Epoch 31, CIFAR-10 Batch 1:  Validation accuracy: 0.800; Loss: 0.080\n",
      "Epoch 31, CIFAR-10 Batch 2:  Validation accuracy: 0.799; Loss: 0.030\n",
      "Epoch 31, CIFAR-10 Batch 3:  Validation accuracy: 0.797; Loss: 0.025\n",
      "Epoch 31, CIFAR-10 Batch 4:  Validation accuracy: 0.804; Loss: 0.035\n",
      "Epoch 31, CIFAR-10 Batch 5:  Validation accuracy: 0.802; Loss: 0.038\n",
      "Epoch 32, CIFAR-10 Batch 1:  Validation accuracy: 0.805; Loss: 0.049\n",
      "Epoch 32, CIFAR-10 Batch 2:  Validation accuracy: 0.798; Loss: 0.037\n",
      "Epoch 32, CIFAR-10 Batch 3:  Validation accuracy: 0.804; Loss: 0.032\n",
      "Epoch 32, CIFAR-10 Batch 4:  Validation accuracy: 0.794; Loss: 0.040\n",
      "Epoch 32, CIFAR-10 Batch 5:  Validation accuracy: 0.803; Loss: 0.030\n",
      "Epoch 33, CIFAR-10 Batch 1:  Validation accuracy: 0.810; Loss: 0.062\n",
      "Epoch 33, CIFAR-10 Batch 2:  Validation accuracy: 0.806; Loss: 0.031\n",
      "Epoch 33, CIFAR-10 Batch 3:  Validation accuracy: 0.802; Loss: 0.023\n",
      "Epoch 33, CIFAR-10 Batch 4:  Validation accuracy: 0.806; Loss: 0.025\n",
      "Epoch 33, CIFAR-10 Batch 5:  Validation accuracy: 0.802; Loss: 0.036\n",
      "Epoch 34, CIFAR-10 Batch 1:  Validation accuracy: 0.810; Loss: 0.034\n",
      "Epoch 34, CIFAR-10 Batch 2:  Validation accuracy: 0.800; Loss: 0.025\n",
      "Epoch 34, CIFAR-10 Batch 3:  Validation accuracy: 0.810; Loss: 0.018\n",
      "Epoch 34, CIFAR-10 Batch 4:  Validation accuracy: 0.798; Loss: 0.040\n",
      "Epoch 34, CIFAR-10 Batch 5:  Validation accuracy: 0.803; Loss: 0.014\n",
      "Epoch 35, CIFAR-10 Batch 1:  Validation accuracy: 0.805; Loss: 0.037\n",
      "Epoch 35, CIFAR-10 Batch 2:  Validation accuracy: 0.805; Loss: 0.022\n",
      "Epoch 35, CIFAR-10 Batch 3:  Validation accuracy: 0.805; Loss: 0.012\n",
      "Epoch 35, CIFAR-10 Batch 4:  Validation accuracy: 0.799; Loss: 0.043\n",
      "Epoch 35, CIFAR-10 Batch 5:  Validation accuracy: 0.806; Loss: 0.021\n",
      "Epoch 36, CIFAR-10 Batch 1:  Validation accuracy: 0.801; Loss: 0.050\n",
      "Epoch 36, CIFAR-10 Batch 2:  Validation accuracy: 0.803; Loss: 0.030\n",
      "Epoch 36, CIFAR-10 Batch 3:  Validation accuracy: 0.798; Loss: 0.027\n",
      "Epoch 36, CIFAR-10 Batch 4:  Validation accuracy: 0.811; Loss: 0.024\n",
      "Epoch 36, CIFAR-10 Batch 5:  Validation accuracy: 0.806; Loss: 0.016\n",
      "Epoch 37, CIFAR-10 Batch 1:  Validation accuracy: 0.801; Loss: 0.024\n",
      "Epoch 37, CIFAR-10 Batch 2:  Validation accuracy: 0.792; Loss: 0.037\n",
      "Epoch 37, CIFAR-10 Batch 3:  Validation accuracy: 0.806; Loss: 0.012\n",
      "Epoch 37, CIFAR-10 Batch 4:  Validation accuracy: 0.808; Loss: 0.018\n",
      "Epoch 37, CIFAR-10 Batch 5:  Validation accuracy: 0.800; Loss: 0.012\n",
      "Epoch 38, CIFAR-10 Batch 1:  Validation accuracy: 0.801; Loss: 0.024\n",
      "Epoch 38, CIFAR-10 Batch 2:  Validation accuracy: 0.799; Loss: 0.026\n",
      "Epoch 38, CIFAR-10 Batch 3:  Validation accuracy: 0.800; Loss: 0.020\n",
      "Epoch 38, CIFAR-10 Batch 4:  Validation accuracy: 0.808; Loss: 0.017\n",
      "Epoch 38, CIFAR-10 Batch 5:  Validation accuracy: 0.796; Loss: 0.020\n",
      "Epoch 39, CIFAR-10 Batch 1:  Validation accuracy: 0.802; Loss: 0.025\n",
      "Epoch 39, CIFAR-10 Batch 2:  Validation accuracy: 0.796; Loss: 0.014\n",
      "Epoch 39, CIFAR-10 Batch 3:  Validation accuracy: 0.798; Loss: 0.014\n",
      "Epoch 39, CIFAR-10 Batch 4:  Validation accuracy: 0.800; Loss: 0.011\n",
      "Epoch 39, CIFAR-10 Batch 5:  Validation accuracy: 0.805; Loss: 0.010\n",
      "Epoch 40, CIFAR-10 Batch 1:  Validation accuracy: 0.782; Loss: 0.038\n",
      "Epoch 40, CIFAR-10 Batch 2:  Validation accuracy: 0.804; Loss: 0.009\n",
      "Epoch 40, CIFAR-10 Batch 3:  Validation accuracy: 0.796; Loss: 0.024\n",
      "Epoch 40, CIFAR-10 Batch 4:  Validation accuracy: 0.799; Loss: 0.031\n",
      "Epoch 40, CIFAR-10 Batch 5:  Validation accuracy: 0.805; Loss: 0.020\n",
      "Epoch 41, CIFAR-10 Batch 1:  Validation accuracy: 0.797; Loss: 0.048\n",
      "Epoch 41, CIFAR-10 Batch 2:  Validation accuracy: 0.806; Loss: 0.011\n",
      "Epoch 41, CIFAR-10 Batch 3:  Validation accuracy: 0.801; Loss: 0.016\n",
      "Epoch 41, CIFAR-10 Batch 4:  Validation accuracy: 0.809; Loss: 0.016\n",
      "Epoch 41, CIFAR-10 Batch 5:  Validation accuracy: 0.809; Loss: 0.013\n",
      "Epoch 42, CIFAR-10 Batch 1:  Validation accuracy: 0.798; Loss: 0.020\n",
      "Epoch 42, CIFAR-10 Batch 2:  Validation accuracy: 0.806; Loss: 0.010\n",
      "Epoch 42, CIFAR-10 Batch 3:  Validation accuracy: 0.803; Loss: 0.013\n",
      "Epoch 42, CIFAR-10 Batch 4:  Validation accuracy: 0.803; Loss: 0.018\n",
      "Epoch 42, CIFAR-10 Batch 5:  Validation accuracy: 0.790; Loss: 0.014\n",
      "Epoch 43, CIFAR-10 Batch 1:  Validation accuracy: 0.804; Loss: 0.014\n",
      "Epoch 43, CIFAR-10 Batch 2:  Validation accuracy: 0.800; Loss: 0.016\n",
      "Epoch 43, CIFAR-10 Batch 3:  Validation accuracy: 0.805; Loss: 0.016\n",
      "Epoch 43, CIFAR-10 Batch 4:  Validation accuracy: 0.804; Loss: 0.011\n",
      "Epoch 43, CIFAR-10 Batch 5:  Validation accuracy: 0.804; Loss: 0.009\n",
      "Epoch 44, CIFAR-10 Batch 1:  Validation accuracy: 0.795; Loss: 0.038\n",
      "Epoch 44, CIFAR-10 Batch 2:  Validation accuracy: 0.802; Loss: 0.011\n",
      "Epoch 44, CIFAR-10 Batch 3:  Validation accuracy: 0.807; Loss: 0.007\n",
      "Epoch 44, CIFAR-10 Batch 4:  Validation accuracy: 0.808; Loss: 0.012\n",
      "Epoch 44, CIFAR-10 Batch 5:  Validation accuracy: 0.800; Loss: 0.009\n",
      "Epoch 45, CIFAR-10 Batch 1:  Validation accuracy: 0.795; Loss: 0.026\n",
      "Epoch 45, CIFAR-10 Batch 2:  Validation accuracy: 0.804; Loss: 0.008\n",
      "Epoch 45, CIFAR-10 Batch 3:  Validation accuracy: 0.806; Loss: 0.015\n",
      "Epoch 45, CIFAR-10 Batch 4:  Validation accuracy: 0.809; Loss: 0.006\n",
      "Epoch 45, CIFAR-10 Batch 5:  Validation accuracy: 0.794; Loss: 0.008\n",
      "Epoch 46, CIFAR-10 Batch 1:  Validation accuracy: 0.791; Loss: 0.049\n",
      "Epoch 46, CIFAR-10 Batch 2:  Validation accuracy: 0.795; Loss: 0.009\n",
      "Epoch 46, CIFAR-10 Batch 3:  Validation accuracy: 0.810; Loss: 0.011\n",
      "Epoch 46, CIFAR-10 Batch 4:  Validation accuracy: 0.804; Loss: 0.008\n",
      "Epoch 46, CIFAR-10 Batch 5:  Validation accuracy: 0.805; Loss: 0.007\n",
      "Epoch 47, CIFAR-10 Batch 1:  Validation accuracy: 0.807; Loss: 0.015\n",
      "Epoch 47, CIFAR-10 Batch 2:  Validation accuracy: 0.801; Loss: 0.010\n",
      "Epoch 47, CIFAR-10 Batch 3:  Validation accuracy: 0.799; Loss: 0.011\n",
      "Epoch 47, CIFAR-10 Batch 4:  Validation accuracy: 0.800; Loss: 0.009\n",
      "Epoch 47, CIFAR-10 Batch 5:  Validation accuracy: 0.806; Loss: 0.007\n",
      "Epoch 48, CIFAR-10 Batch 1:  Validation accuracy: 0.808; Loss: 0.019\n",
      "Epoch 48, CIFAR-10 Batch 2:  Validation accuracy: 0.808; Loss: 0.009\n",
      "Epoch 48, CIFAR-10 Batch 3:  Validation accuracy: 0.804; Loss: 0.010\n",
      "Epoch 48, CIFAR-10 Batch 4:  Validation accuracy: 0.802; Loss: 0.013\n",
      "Epoch 48, CIFAR-10 Batch 5:  Validation accuracy: 0.798; Loss: 0.008\n",
      "Epoch 49, CIFAR-10 Batch 1:  Validation accuracy: 0.807; Loss: 0.006\n",
      "Epoch 49, CIFAR-10 Batch 2:  Validation accuracy: 0.806; Loss: 0.020\n",
      "Epoch 49, CIFAR-10 Batch 3:  Validation accuracy: 0.802; Loss: 0.005\n",
      "Epoch 49, CIFAR-10 Batch 4:  Validation accuracy: 0.811; Loss: 0.009\n",
      "Epoch 49, CIFAR-10 Batch 5:  Validation accuracy: 0.807; Loss: 0.005\n",
      "Epoch 50, CIFAR-10 Batch 1:  Validation accuracy: 0.805; Loss: 0.012\n",
      "Epoch 50, CIFAR-10 Batch 2:  Validation accuracy: 0.803; Loss: 0.007\n",
      "Epoch 50, CIFAR-10 Batch 3:  Validation accuracy: 0.800; Loss: 0.012\n",
      "Epoch 50, CIFAR-10 Batch 4:  Validation accuracy: 0.805; Loss: 0.014\n",
      "Epoch 50, CIFAR-10 Batch 5:  Validation accuracy: 0.806; Loss: 0.005\n"
     ]
    }
   ],
   "source": [
    "\"\"\"\n",
    "DON'T MODIFY ANYTHING IN THIS CELL\n",
    "\"\"\"\n",
    "save_model_path = './image_classification'\n",
    "\n",
    "print('Training...')\n",
    "with tf.Session() as sess:\n",
    "    # Initializing the variables\n",
    "    sess.run(tf.global_variables_initializer())\n",
    "    \n",
    "    # Training cycle\n",
    "    for epoch in range(epochs):\n",
    "        # Loop over all batches\n",
    "        n_batches = 5\n",
    "        for batch_i in range(1, n_batches + 1):\n",
    "            for batch_features, batch_labels in helper.load_preprocess_training_batch(batch_i, batch_size):\n",
    "                train_neural_network(sess, optimizer, keep_probability, batch_features, batch_labels)\n",
    "            print('Epoch {:>2}, CIFAR-10 Batch {}:  '.format(epoch + 1, batch_i), end='')\n",
    "            print_stats(sess, batch_features, batch_labels, cost, accuracy)\n",
    "            \n",
    "    # Save Model\n",
    "    saver = tf.train.Saver()\n",
    "    save_path = saver.save(sess, save_model_path)"
   ]
  },
  {
   "cell_type": "markdown",
   "metadata": {},
   "source": [
    "# Checkpoint\n",
    "The model has been saved to disk.\n",
    "## Test Model\n",
    "Test your model against the test dataset.  This will be your final accuracy. You should have an accuracy greater than 50%. If you don't, keep tweaking the model architecture and parameters."
   ]
  },
  {
   "cell_type": "code",
   "execution_count": 38,
   "metadata": {
    "collapsed": false
   },
   "outputs": [
    {
     "name": "stdout",
     "output_type": "stream",
     "text": [
      "INFO:tensorflow:Restoring parameters from ./image_classification\n",
      "Testing Accuracy: 0.7993229804215608\n",
      "\n"
     ]
    },
    {
     "data": {
      "image/png": "[encoded data removed]",
      "text/plain": [
       "<matplotlib.figure.Figure at 0x7fa6b0566ba8>"
      ]
     },
     "metadata": {
      "image/png": {
       "height": 319,
       "width": 355
      }
     },
     "output_type": "display_data"
    }
   ],
   "source": [
    "\"\"\"\n",
    "DON'T MODIFY ANYTHING IN THIS CELL\n",
    "\"\"\"\n",
    "%matplotlib inline\n",
    "%config InlineBackend.figure_format = 'retina'\n",
    "\n",
    "import tensorflow as tf\n",
    "import pickle\n",
    "import helper\n",
    "import random\n",
    "\n",
    "# Set batch size if not already set\n",
    "try:\n",
    "    if batch_size:\n",
    "        pass\n",
    "except NameError:\n",
    "    batch_size = 64\n",
    "\n",
    "save_model_path = './image_classification'\n",
    "n_samples = 4\n",
    "top_n_predictions = 3\n",
    "\n",
    "def test_model():\n",
    "    \"\"\"\n",
    "    Test the saved model against the test dataset\n",
    "    \"\"\"\n",
    "\n",
    "    test_features, test_labels = pickle.load(open('preprocess_test.p', mode='rb'))\n",
    "    loaded_graph = tf.Graph()\n",
    "\n",
    "    with tf.Session(graph=loaded_graph) as sess:\n",
    "        # Load model\n",
    "        loader = tf.train.import_meta_graph(save_model_path + '.meta')\n",
    "        loader.restore(sess, save_model_path)\n",
    "\n",
    "        # Get Tensors from loaded model\n",
    "        loaded_x = loaded_graph.get_tensor_by_name('x:0')\n",
    "        loaded_y = loaded_graph.get_tensor_by_name('y:0')\n",
    "        loaded_keep_prob = loaded_graph.get_tensor_by_name('keep_prob:0')\n",
    "        loaded_logits = loaded_graph.get_tensor_by_name('logits:0')\n",
    "        loaded_acc = loaded_graph.get_tensor_by_name('accuracy:0')\n",
    "        \n",
    "        # Get accuracy in batches for memory limitations\n",
    "        test_batch_acc_total = 0\n",
    "        test_batch_count = 0\n",
    "        \n",
    "        for test_feature_batch, test_label_batch in helper.batch_features_labels(test_features, test_labels, batch_size):\n",
    "            test_batch_acc_total += sess.run(\n",
    "                loaded_acc,\n",
    "                feed_dict={loaded_x: test_feature_batch, loaded_y: test_label_batch, loaded_keep_prob: 1.0})\n",
    "            test_batch_count += 1\n",
    "\n",
    "        print('Testing Accuracy: {}\\n'.format(test_batch_acc_total/test_batch_count))\n",
    "\n",
    "        # Print Random Samples\n",
    "        random_test_features, random_test_labels = tuple(zip(*random.sample(list(zip(test_features, test_labels)), n_samples)))\n",
    "        random_test_predictions = sess.run(\n",
    "            tf.nn.top_k(tf.nn.softmax(loaded_logits), top_n_predictions),\n",
    "            feed_dict={loaded_x: random_test_features, loaded_y: random_test_labels, loaded_keep_prob: 1.0})\n",
    "        helper.display_image_predictions(random_test_features, random_test_labels, random_test_predictions)\n",
    "\n",
    "\n",
    "test_model()"
   ]
  },
  {
   "cell_type": "markdown",
   "metadata": {},
   "source": [
    "## Why 50-80% Accuracy?\n",
    "You might be wondering why you can't get an accuracy any higher. First things first, 50% isn't bad for a simple CNN.  Pure guessing would get you 10% accuracy. However, you might notice people are getting scores [well above 80%](http://rodrigob.github.io/are_we_there_yet/build/classification_datasets_results.html#43494641522d3130).  That's because we haven't taught you all there is to know about neural networks. We still need to cover a few more techniques.\n",
    "## Submitting This Project\n",
    "When submitting this project, make sure to run all the cells before saving the notebook.  Save the notebook file as \"dlnd_image_classification.ipynb\" and save it as a HTML file under \"File\" -> \"Download as\".  Include the \"helper.py\" and \"problem_unittests.py\" files in your submission."
   ]
  }
 ],
 "metadata": {
  "anaconda-cloud": {},
  "kernelspec": {
   "display_name": "Python 3 - Deep Learning",
   "language": "python",
   "name": "py36deepudacity"
  },
  "language_info": {
   "codemirror_mode": {
    "name": "ipython",
    "version": 3
   },
   "file_extension": ".py",
   "mimetype": "text/x-python",
   "name": "python",
   "nbconvert_exporter": "python",
   "pygments_lexer": "ipython3",
   "version": "3.6.1"
  }
 },
 "nbformat": 4,
 "nbformat_minor": 0
}
